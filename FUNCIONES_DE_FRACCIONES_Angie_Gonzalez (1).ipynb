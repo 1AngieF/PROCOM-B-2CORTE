{
  "nbformat": 4,
  "nbformat_minor": 0,
  "metadata": {
    "colab": {
      "provenance": []
    },
    "kernelspec": {
      "name": "python3",
      "display_name": "Python 3"
    },
    "language_info": {
      "name": "python"
    }
  },
  "cells": [
    {
      "cell_type": "code",
      "source": [
        "class Fraccion: #clase fracción \n",
        "\n",
        "#construcctor \n",
        "\n",
        "   def __init__(self,num,den,pot):\n",
        "    self.num=num\n",
        "    self.den=den\n",
        "    self.pot=pot  \n",
        "   def potencia(self):\n",
        "     if self.den==0 or b.den==0:\n",
        "      print(\"No se puede dividir entre 0\") \n",
        "     else:\n",
        "      if self.pot==0:\n",
        "       num=1\n",
        "       den=1\n",
        "      elif self.pot<0:\n",
        "        self.num, self.den = self.den , self.num\n",
        "        self.pot=self.pot*-1\n",
        "        num=self.num**self.pot\n",
        "        den=self.den**self.pot\n",
        "      else:\n",
        "       num=self.num**self.pot\n",
        "      den=self.den**self.pot\n",
        "      pot=self.pot\n",
        "     c=Fraccion(num,den,pot)\n",
        "     print(f'{c.num} / {c.den}')\n",
        "     return c\n",
        "   def suma(self,s):\n",
        "    if self.den==0 or s.den==0:\n",
        "      print(\"No se puede dividir entre 0\") \n",
        "    else:\n",
        "      if self.den!=s.den:\n",
        "        num=(self.num*s.den)+(self.den*s.num)  \n",
        "        den=self.den*s.den\n",
        "      else:\n",
        "         num=(self.num*s.den)+(self.den*s.num)\n",
        "         den=self.den\n",
        "      f=Fraccion(num,den,1)\n",
        "      print(f'{f.num} / {f.den}')\n",
        "      return f    \n",
        "\n",
        "\n",
        "   def resta(self,s):\n",
        "    if self.den==0 or s.den==0:\n",
        "      print(\"No se puede dividir entre 0\") \n",
        "    else:\n",
        "     if self.den==0 or s.den==0:\n",
        "       print(\"No se puede dividir entre 0\") \n",
        "     else:\n",
        "       if self.den!=s.den:\n",
        "        num=(self.num*s.den)-(self.den*s.num)  \n",
        "        den=self.den*s.den\n",
        "       else:\n",
        "         num=(self.num*s.den)-(self.den*s.num)\n",
        "         den=self.den\n",
        "    f=Fraccion(num,den,1)\n",
        "    print(f'{f.num} / {f.den}')\n",
        "    return f\n",
        "   def producto(self,s):\n",
        "    if self.den==0 or s.den==0:\n",
        "      print(\"No se puede dividir entre 0\") \n",
        "    else:\n",
        "     num=self.num*s.num\n",
        "     den=self.den*s.den\n",
        "     fr=Fraccion(num,den,1)\n",
        "    return f\"{fr.num}/{fr.den}\"\n",
        "\n",
        "   def imprimir(self):\n",
        "    print(f'{self.num} / {self.den}')\n",
        "\n",
        "   def div(self,c):\n",
        "    if self.den==0 or s.den==0:\n",
        "      print(\"No se puede dividir entre 0\")\n",
        "    else:\n",
        "     num=self.num*c.den\n",
        "     den=self.den*c.num \n",
        "     frac=Fraccion(num,den,1)\n",
        "    return f'{frac.num}/{frac.den}'"
      ],
      "metadata": {
        "id": "OkQecWei8F-C"
      },
      "execution_count": 16,
      "outputs": []
    },
    {
      "cell_type": "code",
      "source": [
        "s=Fraccion(3,5,8)"
      ],
      "metadata": {
        "id": "isQ_pdSz6DAa"
      },
      "execution_count": 17,
      "outputs": []
    },
    {
      "cell_type": "code",
      "source": [
        "s.__dict__"
      ],
      "metadata": {
        "colab": {
          "base_uri": "https://localhost:8080/"
        },
        "id": "XdYlpNnp6ICq",
        "outputId": "f3459459-f3ee-4ef9-c940-3e2ee8d72b79"
      },
      "execution_count": 18,
      "outputs": [
        {
          "output_type": "execute_result",
          "data": {
            "text/plain": [
              "{'num': 3, 'den': 5, 'pot': 8}"
            ]
          },
          "metadata": {},
          "execution_count": 18
        }
      ]
    },
    {
      "cell_type": "code",
      "source": [
        "s.potencia()"
      ],
      "metadata": {
        "id": "CG3sxfEC8_1C"
      },
      "execution_count": null,
      "outputs": []
    },
    {
      "cell_type": "code",
      "source": [
        "yo=t.resta(s)\n"
      ],
      "metadata": {
        "id": "riaqYetU8-Cp"
      },
      "execution_count": null,
      "outputs": []
    },
    {
      "cell_type": "code",
      "source": [
        "t.producto(yo)"
      ],
      "metadata": {
        "id": "y2YwD9AD7uwG"
      },
      "execution_count": null,
      "outputs": []
    },
    {
      "cell_type": "code",
      "source": [
        "a=t.div(s)"
      ],
      "metadata": {
        "id": "yqkcbPTq73me"
      },
      "execution_count": null,
      "outputs": []
    },
    {
      "cell_type": "code",
      "source": [
        "print(a)"
      ],
      "metadata": {
        "id": "wgrBKTUo76Q-"
      },
      "execution_count": null,
      "outputs": []
    }
  ]
}