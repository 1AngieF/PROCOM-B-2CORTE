{
  "nbformat": 4,
  "nbformat_minor": 0,
  "metadata": {
    "colab": {
      "provenance": []
    },
    "kernelspec": {
      "name": "python3",
      "display_name": "Python 3"
    },
    "language_info": {
      "name": "python"
    }
  },
  "cells": [
    {
      "cell_type": "markdown",
      "source": [
        "# \n",
        "atributos caracteristicas de los metodos "
      ],
      "metadata": {
        "id": "BfaSaMEeRwFe"
      }
    },
    {
      "cell_type": "code",
      "source": [
        "class Saiyajin():\n",
        "  def __init__(self,nombre,ccabello,cojos,cola_mono,estatura):\n",
        "    self.nombre=nombre\n",
        "    self._ccabello=\"negro\"\n",
        "    self.cojos=\"negro\"\n",
        "    self._cola_mono=True\n",
        "    self.estatura=estatura\n",
        "  def cambio_color(self,putisteria):\n",
        "    if putisteria>=4000 and putisteria<100000:\n",
        "      self.ccabello=\"rubio\"\n",
        "      self.cojos=\"aguamarina\"\n",
        "    elif putisteria>=1000000 and putisteria<200000:\n",
        "      self.ccabello=\"rojo\"\n",
        "      self.cojos=\"rosita\"\n",
        "    elif putisteria>=2000000 and putisteria<500000:\n",
        "      self.ccabello=\"blue\"\n",
        "      self.cojos=\"azul azul\"\n",
        "    elif putisteria>=2000000 and putisteria<500000:\n",
        "      self.ccabello=\"cenizo\"\n",
        "      self.cojos=\"plateado\"\n",
        "    else:\n",
        "      self.ccabello=\"negro\"\n",
        "      self.cojos=\"negro\"\n",
        "  def trabajo (self,t):\n",
        "    if t==1: print(self.nombre, \"es guerrero.\")\n",
        "    elif t==2: print(f\"{self.nombre,} es liendra de freezer.\")\n",
        "    elif t==3: print(f\"{self.nombre}, es mercenario.\")\n",
        "    elif t==4: print(f\"{self.nombre}, es de la realeza.\")\n",
        "    else: print(f\"{self.nombre}, es Nini xD\")\n"
      ],
      "metadata": {
        "id": "MzTaGNmkgJIP"
      },
      "execution_count": 10,
      "outputs": []
    },
    {
      "cell_type": "code",
      "source": [
        "class Humanos():\n",
        "  def __init__(self,nombre,ccabello,cojos,estatura):\n",
        "    self.nombre=nombre\n",
        "    self._ccabello=\"negro\"\n",
        "    self.cojos=\"negro\"\n",
        "    self.estatura=estatura\n",
        "  def cambio_color(self,putisteria):\n",
        "    if putisteria>=4000 and putisteria<100000:\n",
        "      self.ccabello=\"rubio\"\n",
        "      self.cojos=\"aguamarina\"\n",
        "    elif putisteria>=1000000 and putisteria<200000:\n",
        "      self.ccabello=\"rojo\"\n",
        "      self.cojos=\"rosita\"\n",
        "    elif putisteria>=2000000 and putisteria<500000:\n",
        "      self.ccabello=\"blue\"\n",
        "      self.cojos=\"azul azul\"\n",
        "    elif putisteria>=2000000 and putisteria<500000:\n",
        "      self.ccabello=\"cenizo\"\n",
        "      self.cojos=\"plateado\"\n",
        "    else:\n",
        "      self.ccabello=\"negro\"\n",
        "      self.cojos=\"negro\"\n",
        "  def trabajo (self,t):\n",
        "    if t==1: print(self.nombre, \"es periodista.\")\n",
        "    elif t==2: print(f\"{self.nombre,} es político.\")\n",
        "    elif t==3: print(f\"{self.nombre} es de la patrulla roja.\")\n",
        "    elif t==4: print(f\"{self.nombre} trabaja en capsule corps.\")\n",
        "    elif t==5: print(f\"{self.nombre} es policía.\")\n",
        "    elif t==6: print(f\"{self.nombre} es granjero.\")\n",
        "    else: print(f\"{self.nombre}, es Nini xD\")"
      ],
      "metadata": {
        "id": "cHd12ZL8gOK9"
      },
      "execution_count": 11,
      "outputs": []
    },
    {
      "cell_type": "code",
      "source": [
        "saya1=Saiyajin(\"Jhonsito\",\"Aguamarina\",\"Arcoiris\",False,180)"
      ],
      "metadata": {
        "id": "eGLW3rqqgQsF"
      },
      "execution_count": 12,
      "outputs": []
    },
    {
      "cell_type": "code",
      "source": [
        "saya1.cambio_color(10000000)"
      ],
      "metadata": {
        "id": "XVwduEfRbM7A"
      },
      "execution_count": 13,
      "outputs": []
    },
    {
      "cell_type": "code",
      "source": [
        "saya1.__dict__"
      ],
      "metadata": {
        "colab": {
          "base_uri": "https://localhost:8080/"
        },
        "id": "IQRdkvlagUJ9",
        "outputId": "6e966662-5ee7-44ec-f9f6-a3fda4579078"
      },
      "execution_count": 14,
      "outputs": [
        {
          "output_type": "execute_result",
          "data": {
            "text/plain": [
              "{'nombre': 'Jhonsito',\n",
              " '_ccabello': 'negro',\n",
              " 'cojos': 'negro',\n",
              " '_cola_mono': True,\n",
              " 'estatura': 180,\n",
              " 'ccabello': 'negro'}"
            ]
          },
          "metadata": {},
          "execution_count": 14
        }
      ]
    },
    {
      "cell_type": "code",
      "source": [
        "class Hibrido (Saiyajin,Humanos):\n",
        " def cambio_color(self,putisteria):\n",
        "   super().cambio_color(putisteria)\n",
        "   if putisteria>=10000000000 and putisteria<10000000000000000:\n",
        "      self.ccabello=\"blanco\"\n",
        "      self.cojos=\"rojo\"   \n",
        "      print (f\"{self.nombre} puede ser una bestia bonita Lol :>\")"
      ],
      "metadata": {
        "id": "7aPxURY4tdhf"
      },
      "execution_count": 44,
      "outputs": []
    },
    {
      "cell_type": "code",
      "source": [
        "saya1=Saiyajin(\"jonsito\",180)"
      ],
      "metadata": {
        "id": "o0NJarGLbJNg"
      },
      "execution_count": null,
      "outputs": []
    },
    {
      "cell_type": "code",
      "source": [
        "saya1=Saiyajin(\"jonsito\",\"Aguamarina\",\"Arcoiris\" False,180)"
      ],
      "metadata": {
        "id": "0IxU-hM7a5GW"
      },
      "execution_count": null,
      "outputs": []
    },
    {
      "cell_type": "code",
      "source": [
        "saya1.ccabello=\"Aguamarina\""
      ],
      "metadata": {
        "id": "YS9mdwDnVTyh"
      },
      "execution_count": null,
      "outputs": []
    },
    {
      "cell_type": "code",
      "source": [
        "saya1.__dict__"
      ],
      "metadata": {
        "id": "5FNIe11hWDHp"
      },
      "execution_count": null,
      "outputs": []
    },
    {
      "cell_type": "code",
      "source": [
        "saya1._ccabello=\"amarrillo con brillitos\""
      ],
      "metadata": {
        "id": "LZh0gVowV_yR"
      },
      "execution_count": null,
      "outputs": []
    },
    {
      "cell_type": "code",
      "source": [
        "saya1.ccabello=\"Aguamarina\"\n",
        "saya1.__cola_mono=False"
      ],
      "metadata": {
        "id": "B65J9DP5Wnzy"
      },
      "execution_count": null,
      "outputs": []
    },
    {
      "cell_type": "code",
      "source": [
        "human=humanos"
      ],
      "metadata": {
        "id": "jRJcI6vgb9Y3"
      },
      "execution_count": null,
      "outputs": []
    },
    {
      "cell_type": "code",
      "source": [
        "persona=hibrido(\"Gohan\",185) \n",
        "persona.cambio_color()"
      ],
      "metadata": {
        "id": "k-c1b08echbd"
      },
      "execution_count": null,
      "outputs": []
    },
    {
      "cell_type": "code",
      "source": [
        "class Perros():\n",
        "  def ladrar(self):\n",
        "    print(\"GUAAU GUAAU\")\n",
        "  def gruñir(self):\n",
        "    print(\"GUAAU GUAAU\")"
      ],
      "metadata": {
        "id": "X5D-phELdTbI"
      },
      "execution_count": 16,
      "outputs": []
    },
    {
      "cell_type": "code",
      "source": [
        "class Caniches(Perros):\n",
        "  def ladrar(self):\n",
        "    print(\"guau guau guau guau\")\n",
        "  def gruñir(self):\n",
        "    print(\"gñiii gñiii gñiii\")"
      ],
      "metadata": {
        "id": "cLpKPCcYhPuA"
      },
      "execution_count": 17,
      "outputs": []
    },
    {
      "cell_type": "code",
      "source": [
        "class Pastor_Aleman(Perros):\n",
        "  def ladrar(self):\n",
        "    print(\"GuaaUUU GuaaUUU GuaaUUU\")\n",
        "  def gruñir(self):\n",
        "    print(\"Agrrgrrrff Agrrgrrrff\")"
      ],
      "metadata": {
        "id": "qBq7IOX8hxKd"
      },
      "execution_count": 18,
      "outputs": []
    },
    {
      "cell_type": "code",
      "source": [
        "class Shepadoodel(Caniches,Pastor_Aleman): \n",
        "  def xladrar(self,veces):\n",
        "    for cuantas in range(veces):\n",
        "      super(Shepadoodel,self).ladrar()"
      ],
      "metadata": {
        "id": "F0Hb6UFJiXP2"
      },
      "execution_count": 19,
      "outputs": []
    },
    {
      "cell_type": "code",
      "source": [
        "Tommy=Pastor_Aleman()\n",
        "lulu=Caniches()\n",
        "milu=Shepadoodel() \n",
        "milu.xladrar(2)"
      ],
      "metadata": {
        "colab": {
          "base_uri": "https://localhost:8080/"
        },
        "id": "28DXseGdjFXF",
        "outputId": "ade830b7-c0a8-44fd-9b19-e2ae8e4d42a3"
      },
      "execution_count": 20,
      "outputs": [
        {
          "output_type": "stream",
          "name": "stdout",
          "text": [
            "guau guau guau guau\n",
            "guau guau guau guau\n"
          ]
        }
      ]
    },
    {
      "cell_type": "code",
      "source": [
        "class Asignar(list):\n",
        "  pass"
      ],
      "metadata": {
        "id": "EVf4uU6DjmzT"
      },
      "execution_count": 22,
      "outputs": []
    },
    {
      "cell_type": "code",
      "source": [
        "a=Asignar()"
      ],
      "metadata": {
        "id": "JP0LBJkDk0Wk"
      },
      "execution_count": 23,
      "outputs": []
    },
    {
      "cell_type": "code",
      "source": [
        "a.append(2)"
      ],
      "metadata": {
        "id": "bKIHr7RLk9V0"
      },
      "execution_count": 24,
      "outputs": []
    },
    {
      "cell_type": "code",
      "source": [
        "class Padre():\n",
        "  def __init__(self,ojos,cejas):\n",
        "    self.ojos=ojos\n",
        "    self.cejas=cejas\n",
        "\n",
        "class Hijo(Padre):\n",
        "  def __init__(self,ojos,cejas,cara):\n",
        "    self.ojos=ojos\n",
        "    self.cejas=cejas\n",
        "    self.cara=cara  \n"
      ],
      "metadata": {
        "id": "Sau6mBM9lBhU"
      },
      "execution_count": 33,
      "outputs": []
    },
    {
      "cell_type": "code",
      "source": [
        "Manuel=Padre(\"Marrón\",\"miel\")\n",
        "Tomas=Hijo(\"Rubio\",\"verdes\",\"larga\")\n",
        "print(Tomas.ojos,Tomas.cejas,Tomas.cara)"
      ],
      "metadata": {
        "colab": {
          "base_uri": "https://localhost:8080/"
        },
        "id": "hiRFDFOLmpoa",
        "outputId": "0d1f7410-b66c-47e6-c1ed-fc36518fc675"
      },
      "execution_count": 34,
      "outputs": [
        {
          "output_type": "stream",
          "name": "stdout",
          "text": [
            "Rubio verdes larga\n"
          ]
        }
      ]
    },
    {
      "cell_type": "code",
      "source": [
        "class Abuelo(): \n",
        "  def __init__(self,ojos,cejas):\n",
        "    self.ojos=ojos\n",
        "    self.cejas=cejas\n",
        "\n",
        "class Hijo2(Abuelo):\n",
        "  def __init__(self,ojos,cejas,cara):\n",
        "    super().__init__(ojos,cejas)\n",
        "    self.cara=cara"
      ],
      "metadata": {
        "id": "kTYnxTIDnj5w"
      },
      "execution_count": 40,
      "outputs": []
    },
    {
      "cell_type": "code",
      "source": [
        "Abuelo=Abuelo(\"Negro\",\"Marron\")\n",
        "Mateo=Hijo2(\"Marron\",\"Verdes\",\"Gordita\")"
      ],
      "metadata": {
        "id": "l6-OAK1vnTcZ"
      },
      "execution_count": 41,
      "outputs": []
    }
  ]
}