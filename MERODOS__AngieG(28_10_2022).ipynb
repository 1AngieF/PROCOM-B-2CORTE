{
  "nbformat": 4,
  "nbformat_minor": 0,
  "metadata": {
    "colab": {
      "provenance": []
    },
    "kernelspec": {
      "name": "python3",
      "display_name": "Python 3"
    },
    "language_info": {
      "name": "python"
    }
  },
  "cells": [
    {
      "cell_type": "markdown",
      "source": [
        "#METODOS  \n",
        "Un método es una función la cual es propiedad de un objeto. Existen dos tipos de métodos: Métodos de Instancia y los Métodos Estáticos."
      ],
      "metadata": {
        "id": "SjZ3ATlKPjLW"
      }
    },
    {
      "cell_type": "markdown",
      "source": [
        "#METODOS DE INSTANCIA \n",
        "Los métodos de instancia son los métodos normales, de toda la vida, Reciben como parámetro de entrada self que hace referencia a la instancia que llama al método."
      ],
      "metadata": {
        "id": "Macx-NsKQain"
      }
    },
    {
      "cell_type": "code",
      "source": [
        "class perro:\n",
        "  peso=30\n",
        "\n",
        "  def __init__(self, pesp):\n",
        "    self.peso = peso\n",
        "\n",
        "  def get_peso_promedio(cls):\n",
        "    return perro.peso \n",
        "     \n",
        "labrador=perro(25)"
      ],
      "metadata": {
        "id": "16b_oYIqRjsg"
      },
      "execution_count": null,
      "outputs": []
    },
    {
      "cell_type": "markdown",
      "source": [
        "#METODO __INIT__\n",
        "El objetivo fundamental del método __init__ es inicializar los atributos del objeto que creamos. "
      ],
      "metadata": {
        "id": "_Gd_Nh27QHLK"
      }
    },
    {
      "cell_type": "code",
      "execution_count": null,
      "metadata": {
        "id": "XPCwxzQkO82C"
      },
      "outputs": [],
      "source": [
        "class punto:\n",
        "  def __init__(self,x,y):\n",
        "    self.x=x\n",
        "    self.y=Y"
      ]
    },
    {
      "cell_type": "markdown",
      "source": [
        "#METODO __STR__(SELF)"
      ],
      "metadata": {
        "id": "80A3vx3lSpVB"
      }
    },
    {
      "cell_type": "code",
      "source": [
        "class punto:\n",
        "\n",
        "  def __init__(self,x,y):\n",
        "    self.x=x\n",
        "    self.y=y \n",
        "\n",
        "  def __str__(self):\n",
        "    return\"(\"+str(self.x)+\",\"+str(self.y)+\")\" \n",
        "     \n",
        "#bloque principal \n",
        "punto1=punto(10,3)\n",
        "punto2=punto(3,4)\n",
        "print(punto1)\n",
        "print(punto2)"
      ],
      "metadata": {
        "id": "ITtSu29BSvi5",
        "colab": {
          "base_uri": "https://localhost:8080/"
        },
        "outputId": "7c2a165a-0cac-487e-d2ef-5c47119896c6"
      },
      "execution_count": 13,
      "outputs": [
        {
          "output_type": "stream",
          "name": "stdout",
          "text": [
            "(10,3)\n",
            "(3,4)\n"
          ]
        }
      ]
    },
    {
      "cell_type": "markdown",
      "source": [
        "#ejercicios "
      ],
      "metadata": {
        "id": "KD2wacVdR653"
      }
    },
    {
      "cell_type": "code",
      "source": [],
      "metadata": {
        "id": "jxTGD-SCScbH"
      },
      "execution_count": null,
      "outputs": []
    },
    {
      "cell_type": "markdown",
      "source": [
        "1. Crear una clase que represente un empleado. Definir como atributos su nombre y su sueldo. En el método __init__ cargar los atributos por teclado, es decir, permitir que el usuario ingrese estos atributos, y luego en otro método imprimir sus datos y por último uno que imprima un mensaje si debe pagar impuestos (si el sueldo supera a 8000)"
      ],
      "metadata": {
        "id": "mzwiHsH4Sd1v"
      }
    },
    {
      "cell_type": "code",
      "source": [
        "class Empleado:\n",
        "\n",
        "    def __init__(self):\n",
        "        self.nombre=input(\"Ingrese el nombre del empleado:\")\n",
        "        self.sueldo=float(input(\"Ingrese el sueldo:\"))\n",
        "\n",
        "    def imprimir(self):\n",
        "        print(\"Nombre:\",self.nombre)\n",
        "        print(\"Sueldo:\",self.sueldo)\n",
        "\n",
        "    def paga_impuestos(self):\n",
        "        if self.sueldo>8000:\n",
        "            print(\"Debe pagar impuestos\")\n",
        "        else:\n",
        "            print(\"No paga impuestos\")\n",
        "\n",
        "\n",
        "# bloque principal\n",
        "\n",
        "empleado1=Empleado()\n",
        "empleado1.imprimir()\n",
        "empleado1.paga_impuestos()"
      ],
      "metadata": {
        "colab": {
          "base_uri": "https://localhost:8080/"
        },
        "id": "mHrFPHmUZE0k",
        "outputId": "642262c5-b309-4291-a66d-86634df5a4ce"
      },
      "execution_count": 7,
      "outputs": [
        {
          "output_type": "stream",
          "name": "stdout",
          "text": [
            "Ingrese el nombre del empleado:Ana\n",
            "Ingrese el sueldo:9000\n",
            "Nombre: Ana\n",
            "Sueldo: 9000.0\n",
            "Debe pagar impuestos\n"
          ]
        }
      ]
    },
    {
      "cell_type": "markdown",
      "source": [
        "2.\n",
        "Define una clase con el nombre Ninjas la cual tenga un método __init__ con los siguientes atributos:\n",
        "- hp (Esta sería la vida)\n",
        "- resistencia\n",
        "- xp (Esta sería la experiencia)\n",
        "- vidas\n",
        "\n",
        "Con un método __str__ imprímelos en el siguiente orden: \n",
        "- hp: (Su vida actual)\n",
        "- resistencia: (Su resistencia)\n",
        "- xp: (Su experiencia)\n",
        "- vidas: (Sus vidas)\n"
      ],
      "metadata": {
        "id": "UZAax3c3ZLpE"
      }
    },
    {
      "cell_type": "code",
      "source": [
        "class Ninjas:\n",
        "  def __init__(self,hp,resistencia,xp,vidas):\n"
      ],
      "metadata": {
        "id": "bAlYbab7bU3E"
      },
      "execution_count": null,
      "outputs": []
    },
    {
      "cell_type": "markdown",
      "source": [
        "3. Crea una clase llamada Cuenta que tendrá los siguientes atributos: titular (que es una persona) y cantidad (puede tener decimales). El titular será obligatorio y la cantidad es opcional. Construye los siguientes métodos para la clase:\n",
        "-\tUn constructor, donde los datos pueden estar vacíos.\n",
        "-\tLos setters y getters para cada uno de los atributos. \n",
        "-\tmostrar(): Muestra los datos de la cuenta.\n",
        "-\tingresar(cantidad): se ingresa una cantidad a la cuenta, si la cantidad introducida es negativa, no se hará nada.\n",
        "-\tretirar(cantidad): se retira una cantidad a la cuenta. La cuenta puede estar en números rojos.\n",
        "\n"
      ],
      "metadata": {
        "id": "uLKgTbFabV9q"
      }
    },
    {
      "cell_type": "code",
      "source": [
        "class Cuenta:\n",
        "\n",
        "    def __init__(self,titular,cantidad=0,bonificacion=0):\n",
        "        super().__init__(titular,cantidad)\n",
        "        self.bonificacion=bonificacion\n",
        "    \n",
        "    \n",
        "    def bonificacion(self):\n",
        "        return self.__bonificacion\n",
        "    \n",
        "   \n",
        "    def bonificacion(self,bonificacion):\n",
        "        self.__bonificacion=bonificacion\n",
        "\n",
        "    def mostrar(self):\n",
        "        return \"Cuenta \\n\"+\"Titular:\"+self.titular.mostrar()+\" - Cantidad:\"+str(self.cantidad)+ \"- Bonificación:\"+str(self.bonificacion)+\"%\"\n",
        "   \n",
        "    \n",
        "    def retirar(self,cantidad):\n",
        "        if not self.esTitularValido():\n",
        "            print (\"No puesdes retirar el dinero. titular no válido\")\n",
        "        elif cantidad > 0:\n",
        "            super().retirar(cantidad)\n"
      ],
      "metadata": {
        "id": "OoOoZdGUbWbE"
      },
      "execution_count": 12,
      "outputs": []
    }
  ]
}