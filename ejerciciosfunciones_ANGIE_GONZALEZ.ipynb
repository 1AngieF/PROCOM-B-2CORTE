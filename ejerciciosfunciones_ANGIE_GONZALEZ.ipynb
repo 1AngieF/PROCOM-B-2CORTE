{
  "nbformat": 4,
  "nbformat_minor": 0,
  "metadata": {
    "colab": {
      "provenance": []
    },
    "kernelspec": {
      "name": "python3",
      "display_name": "Python 3"
    },
    "language_info": {
      "name": "python"
    }
  },
  "cells": [
    {
      "cell_type": "markdown",
      "source": [
        "#clases de funciones \n",
        "Se hace huso de \"def\" \n",
        "cualquier función tendrá un nomnbre, unos argumentos de entrada, \n",
        "un código a ejecutar y unos parametros de salida"
      ],
      "metadata": {
        "id": "C0dP33339tXL"
      }
    },
    {
      "cell_type": "code",
      "source": [
        "def nombre_funcion (arguemnto):\n",
        "  código \n",
        "  return retorno"
      ],
      "metadata": {
        "id": "nUbjvI_N_IiU"
      },
      "execution_count": null,
      "outputs": []
    },
    {
      "cell_type": "markdown",
      "source": [
        "se pasando los argumentos necesarios según los parámetros que defina la función  "
      ],
      "metadata": {
        "id": "GBbYRt8PACdF"
      }
    },
    {
      "cell_type": "code",
      "source": [
        "def multiplica_por5 (número): \n",
        "  print(f\"{número} * 5 ={número * 5}\")\n",
        "\n",
        "print('comoenza el programa')\n",
        "multiplica_por5 (7)\n",
        "print('siguiente')\n",
        "multiplica_por5(113)\n",
        "print('fin')"
      ],
      "metadata": {
        "colab": {
          "base_uri": "https://localhost:8080/"
        },
        "id": "PfD7cNiS_iQI",
        "outputId": "614e3076-2fe7-4e5c-ef79-8c2e7a682184"
      },
      "execution_count": null,
      "outputs": [
        {
          "output_type": "stream",
          "name": "stdout",
          "text": [
            "comoenza el programa\n",
            "7 * 5 =35\n",
            "siguiente\n",
            "113 * 5 =565\n",
            "fin\n"
          ]
        }
      ]
    },
    {
      "cell_type": "code",
      "source": [
        "\n",
        "#calculadora basica (+,-,*,/)\n",
        "valor1= int(input(\"ingrese el primer número\"))\n",
        "valor2= int(input(\"ingrese el segundo número\"))\n",
        "operador= input(\"ingrese la operación\")\n",
        "#hay tres parametros\n",
        "def calculadora(a,b,c):\n",
        "  if c == \"+\":\n",
        "    resultado = a+b \n",
        "  if c == \"-\":\n",
        "    resultado = a-b\n",
        "  if c == \"*\":\n",
        "    resultado = a*b\n",
        "  if c == \"/\":\n",
        "    resultado = a/b \n",
        "\n",
        "  print(\"el resultado es\", resultado) \n",
        "\n",
        "calculadora(valor1,valor2,operador)\n"
      ],
      "metadata": {
        "colab": {
          "base_uri": "https://localhost:8080/"
        },
        "id": "SQgacdqVB90s",
        "outputId": "432df74f-42c9-41a8-adf6-af9bfda0b9fc"
      },
      "execution_count": null,
      "outputs": [
        {
          "output_type": "stream",
          "name": "stdout",
          "text": [
            "ingrese el primer número8\n",
            "ingrese el segundo número2\n",
            "ingrese la operación+\n",
            "el resultado es 10\n"
          ]
        }
      ]
    },
    {
      "cell_type": "markdown",
      "source": [
        "# ***FUNCIONES CON PARAMETROS ***\n",
        "\n",
        "\n",
        "* ** Paso por valor:** Un lenguaje de programación que utiliza paso por valor de los argumentos, lo que realmente hace es copiar el valor de las variables en los respectivos parámetros. Cualquier modificación del valor del parámetro, no afecta a la variable externa correspondiente.\n",
        "* **Paso por referencia:** Un lenguaje de programación que utiliza paso por referencia, lo que realmente hace es copiar en los parámetros la dirección de memoria de las variables que se usan como argumento. Esto implica que realmente hagan referencia al mismo objeto/elemento y cualquier modificación del valor en el parámetro afectará a la variable externa correspondiente.\n",
        "\n",
        "\n",
        "\n",
        "\n"
      ],
      "metadata": {
        "id": "22Jsl_41_gnR"
      }
    },
    {
      "cell_type": "code",
      "source": [
        "#funciones sin parametros con retorno \n",
        "def verificar (correo, contraseña):\n",
        "  if (correo == \"agonzalez92@unan.edu.co\" and contraseña ==\"123456789\"):\n",
        "    return True\n",
        "  else:\n",
        "    return False \n",
        "\n",
        "def principal():\n",
        "  correo=input(\"correo\")\n",
        "  contraseña=input(\"contraseña\")\n",
        "  login=verificar(correo, contraseña )\n",
        "  if(login == True):\n",
        "    print(\"bienvenido al sistema\") \n",
        "  else:\n",
        "    print(\"usuario incorrceto\")\n",
        "\n",
        "principal()"
      ],
      "metadata": {
        "colab": {
          "base_uri": "https://localhost:8080/"
        },
        "id": "q3Wj6v9kKC49",
        "outputId": "5ca2d496-af1c-4255-d18b-28b6febd0da0"
      },
      "execution_count": null,
      "outputs": [
        {
          "output_type": "stream",
          "name": "stdout",
          "text": [
            "correoagonzalez93@unab.edu.co\n",
            "contraseña987654321\n",
            "usuario incorrceto\n"
          ]
        }
      ]
    },
    {
      "cell_type": "markdown",
      "source": [
        "TALLER DE CLASE"
      ],
      "metadata": {
        "id": "m7BAnxKIWsGg"
      }
    },
    {
      "cell_type": "code",
      "source": [
        "def calcularEdad(añoActual,AñoDeNacimiento,AñoAmigo):\n",
        "\tmiEdad = añoActual - AñoDeNacimiento\n",
        "\tedadDeMiAmigo = añoActual - AñoAmigo\n",
        "\treturn print(f\"Tengo {miEdad} años y mi mejor amigo(a) tiene {edadDeMiAmigo}\")\n",
        "\n",
        "añoActual=int(input(\"Ingrese el año actual: \"))\n",
        "AñoDeNacimiento=int(input(\"Ingrese su año de nacimiento: \"))\n",
        "AñoAmigo=int(input(\"Ingrese el año de nacimiento de su mejor amigo(a): \"))\n",
        "\n",
        "calcularEdad(añoActual,AñoDeNacimiento,AñoAmigo)"
      ],
      "metadata": {
        "colab": {
          "base_uri": "https://localhost:8080/"
        },
        "id": "hDiHp-LcV8vV",
        "outputId": "164a46f5-45d8-4da0-cee0-81fef418c4e9"
      },
      "execution_count": null,
      "outputs": [
        {
          "output_type": "stream",
          "name": "stdout",
          "text": [
            "Ingrese el año actual: 2022\n",
            "Ingrese su año de nacimiento: 2000\n",
            "Ingrese el año de nacimiento de su mejor amigo(a): 1994\n",
            "Tengo 22 años y mi mejor amigo(a) tiene 28\n"
          ]
        }
      ]
    },
    {
      "cell_type": "code",
      "source": [],
      "metadata": {
        "id": "7kvEvwq6W8Ne"
      },
      "execution_count": null,
      "outputs": []
    }
  ]
}