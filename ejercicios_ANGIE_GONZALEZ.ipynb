{
  "nbformat": 4,
  "nbformat_minor": 0,
  "metadata": {
    "colab": {
      "provenance": []
    },
    "kernelspec": {
      "name": "python3",
      "display_name": "Python 3"
    },
    "language_info": {
      "name": "python"
    }
  },
  "cells": [
    {
      "cell_type": "markdown",
      "source": [
        "##EJERCICOS POR LISTAS \n",
        "La lista por comprensión es una construcción disponible en python con la que se puede crear lista a parit de otros elementos iterables. Siendo una de las contracciones mas elegantes del lengueje. A continuación, se mostraá la sitaxis básica para trabajar con las listas por comprensión."
      ],
      "metadata": {
        "id": "2v0WZDSuluhv"
      }
    },
    {
      "cell_type": "code",
      "source": [
        "#los tipos de datos mutables son todos aquellos q los que es posible cambiar, modificar o actualizar su contenido \n",
        "#los objerivos mutables más comunes son las listas, diccionarios y conjuntos que sirven para guardar colecciones de dartos \n",
        "\n",
        "\n",
        "#Sintaxis de listas por comprensión\n",
        "nuevva_lista=[expresión bucle_for condiciones]\n",
        "\n",
        "#entre corchetes se escribe una expresión seguida de bucle for sobre el que se inrera, para finalmente escribir una condiciones "
      ],
      "metadata": {
        "id": "CoJ04P5Foufw"
      },
      "execution_count": null,
      "outputs": []
    },
    {
      "cell_type": "code",
      "source": [
        "numbers=[1,2,3,4]\n",
        "results = []\n",
        "for n in numbers:\n",
        "  results.append(n+1)\n",
        "results"
      ],
      "metadata": {
        "colab": {
          "base_uri": "https://localhost:8080/"
        },
        "id": "FxptJQSbqHRo",
        "outputId": "83c6df67-1260-4fbc-a75e-d246b20f9339"
      },
      "execution_count": 28,
      "outputs": [
        {
          "output_type": "execute_result",
          "data": {
            "text/plain": [
              "[2, 3, 4, 5]"
            ]
          },
          "metadata": {},
          "execution_count": 28
        }
      ]
    },
    {
      "cell_type": "markdown",
      "source": [
        "#CONDICIONES EN LAS LISTAS POR COMPRENSIÓN\n",
        "Es posible añadir condiciones a las listas por comprensión en python, para lo que se tiene que agregar al fianl con la condición"
      ],
      "metadata": {
        "id": "2H9O5pCyqv5M"
      }
    },
    {
      "cell_type": "code",
      "source": [
        "numbers = [1, 2, 3, 4]\n",
        "results = [n + 1 for n in numbers if n < 5 ]\n",
        "results"
      ],
      "metadata": {
        "colab": {
          "base_uri": "https://localhost:8080/"
        },
        "id": "KiwbX_DQlwp2",
        "outputId": "5e2ee52b-72ea-41a3-9597-77b46f95ecef"
      },
      "execution_count": 1,
      "outputs": [
        {
          "output_type": "execute_result",
          "data": {
            "text/plain": [
              "[2, 3, 4, 5]"
            ]
          },
          "metadata": {},
          "execution_count": 1
        }
      ]
    },
    {
      "cell_type": "code",
      "source": [
        "results2=lambda numbers:results\n",
        "print(results2(numbers))"
      ],
      "metadata": {
        "colab": {
          "base_uri": "https://localhost:8080/"
        },
        "id": "MCu2p1fCl1Te",
        "outputId": "ab198902-d02b-45a2-871d-9991d2188219"
      },
      "execution_count": 2,
      "outputs": [
        {
          "output_type": "stream",
          "name": "stdout",
          "text": [
            "[2, 3, 4, 5]\n"
          ]
        }
      ]
    },
    {
      "cell_type": "markdown",
      "source": [
        "###**ejercicio con:** ANGIE\n",
        "\n",
        "\n",
        "*   FUNCIONES POR COMPRENSIÓN\n",
        "*   FUNCIONES POR LANDA\n",
        "*   FUNCIONES NORMAL CON UN DEF "
      ],
      "metadata": {
        "id": "AgR4V0UUl6Hu"
      }
    },
    {
      "cell_type": "code",
      "source": [
        "nom1 = ['Samuelle' ,'Angie' ,'Valentina', 'Alejandro', 'Jonsito']\n",
        "nom2 = ['Samuelle' ,'Andrea' ,'Samdra', 'Anderson', 'Jonsito']"
      ],
      "metadata": {
        "id": "95bX2Xsbl8r-"
      },
      "execution_count": 20,
      "outputs": []
    },
    {
      "cell_type": "code",
      "source": [
        "#POR COMPRENSÓN\n",
        "common={a for a in nom1 for b in nom2 if a == b}\n",
        "common"
      ],
      "metadata": {
        "colab": {
          "base_uri": "https://localhost:8080/"
        },
        "id": "h_nMzcKYmHFV",
        "outputId": "3e31b704-0715-4e7c-a538-f0005daf47f0"
      },
      "execution_count": 21,
      "outputs": [
        {
          "output_type": "execute_result",
          "data": {
            "text/plain": [
              "{'Jonsito', 'Samuelle'}"
            ]
          },
          "metadata": {},
          "execution_count": 21
        }
      ]
    },
    {
      "cell_type": "code",
      "source": [
        "#por LAMBDA\n",
        "common1=lambda nom1,nom2:common\n",
        "print(common1(nom1,nom2))"
      ],
      "metadata": {
        "colab": {
          "base_uri": "https://localhost:8080/"
        },
        "id": "unfIjemWmUqe",
        "outputId": "a20f1f3f-7238-48ec-d0bb-71b5f40aecb3"
      },
      "execution_count": 22,
      "outputs": [
        {
          "output_type": "stream",
          "name": "stdout",
          "text": [
            "{'Samuelle', 'Jonsito'}\n"
          ]
        }
      ]
    },
    {
      "cell_type": "code",
      "source": [
        "#por DEF  \n",
        "def common(nom1,nom2):\n",
        "  return nom1,nom2"
      ],
      "metadata": {
        "id": "NaEXjwUsnD3a"
      },
      "execution_count": 23,
      "outputs": []
    },
    {
      "cell_type": "code",
      "source": [
        "nom1,nom2"
      ],
      "metadata": {
        "colab": {
          "base_uri": "https://localhost:8080/"
        },
        "id": "CDib2zlPmhv_",
        "outputId": "b30ab820-0509-4546-b85d-6aab5ec721ee"
      },
      "execution_count": 25,
      "outputs": [
        {
          "output_type": "execute_result",
          "data": {
            "text/plain": [
              "(['Samuelle', 'Angie', 'Valentina', 'Alejandro', 'Jonsito'],\n",
              " ['Samuelle', 'Andrea', 'Samdra', 'Anderson', 'Jonsito'])"
            ]
          },
          "metadata": {},
          "execution_count": 25
        }
      ]
    },
    {
      "cell_type": "code",
      "source": [
        "#número perfecto \n",
        "\n",
        "def perfecto(número):\n",
        "  perf=0\n",
        "  for i in range(1,número):\n",
        "    if número%i==0:\n",
        "      perf+=i\n",
        "    if perf==número:\n",
        "      print(\"es número perfecto\")\n",
        "      return True \n",
        "    else:\n",
        "      print(\"no es número perfecto\")\n",
        "  número=6\n",
        "perfecto(número) \n"
      ],
      "metadata": {
        "id": "J_Acvx1kmqm8"
      },
      "execution_count": 45,
      "outputs": []
    },
    {
      "cell_type": "code",
      "source": [
        "def números():\n",
        "  a=int(input(\"ingresa un número\"))\n",
        "  b=int(input(\"ingresa un número\"))\n",
        "  c=int(input(\"ingresa un número\")) \n",
        "  d=int(input(\"ingresa un número\"))\n",
        "  perfect4=[a,b,c,d]\n",
        "\n",
        "  perfect1=[elemento for elemento in perfect if perfecto(elemento)==True ] \n",
        "números()"
      ],
      "metadata": {
        "colab": {
          "base_uri": "https://localhost:8080/"
        },
        "id": "96czpqSFuozA",
        "outputId": "45c1fef4-1dc6-42f6-c1af-c943c2295e3f"
      },
      "execution_count": 48,
      "outputs": [
        {
          "output_type": "stream",
          "name": "stdout",
          "text": [
            "ingresa un número1\n",
            "ingresa un número2\n",
            "ingresa un número3\n",
            "ingresa un número4\n",
            "no es número perfecto\n",
            "no es número perfecto\n",
            "es número perfecto\n",
            "no es número perfecto\n",
            "no es número perfecto\n",
            "no es número perfecto\n",
            "es número perfecto\n",
            "no es número perfecto\n",
            "no es número perfecto\n",
            "no es número perfecto\n",
            "no es número perfecto\n",
            "es número perfecto\n",
            "no es número perfecto\n",
            "no es número perfecto\n",
            "no es número perfecto\n",
            "no es número perfecto\n",
            "no es número perfecto\n",
            "es número perfecto\n"
          ]
        }
      ]
    },
    {
      "cell_type": "code",
      "source": [
        "lista=[2,3,6,4]\n",
        "#lambda y map\n",
        "perfec2=list(map(lambda elemento:perfecto(elemento)==True,lista))\n",
        "perfec2"
      ],
      "metadata": {
        "colab": {
          "base_uri": "https://localhost:8080/"
        },
        "id": "488hO4PMusB2",
        "outputId": "53d9ac4d-efcc-4e4e-ced3-a7675ee27fe1"
      },
      "execution_count": 49,
      "outputs": [
        {
          "output_type": "stream",
          "name": "stdout",
          "text": [
            "no es número perfecto\n",
            "no es número perfecto\n",
            "no es número perfecto\n",
            "es número perfecto\n",
            "no es número perfecto\n",
            "no es número perfecto\n",
            "no es número perfecto\n",
            "no es número perfecto\n",
            "es número perfecto\n",
            "no es número perfecto\n",
            "no es número perfecto\n",
            "es número perfecto\n",
            "no es número perfecto\n",
            "no es número perfecto\n",
            "no es número perfecto\n",
            "no es número perfecto\n",
            "no es número perfecto\n",
            "es número perfecto\n"
          ]
        },
        {
          "output_type": "execute_result",
          "data": {
            "text/plain": [
              "[False, False, True, False]"
            ]
          },
          "metadata": {},
          "execution_count": 49
        }
      ]
    },
    {
      "cell_type": "code",
      "source": [
        "\n",
        "pares=[num for num in lista if num%2==0]\n",
        "print(pares) \n",
        "impares=[num for num in lista if num%2!=0]\n",
        "print(impares)"
      ],
      "metadata": {
        "colab": {
          "base_uri": "https://localhost:8080/"
        },
        "id": "WwOwiVRPus72",
        "outputId": "291d157a-0420-4840-e618-e10a3e33cf3d"
      },
      "execution_count": 53,
      "outputs": [
        {
          "output_type": "stream",
          "name": "stdout",
          "text": [
            "[2, 6, 4]\n",
            "[3]\n"
          ]
        }
      ]
    }
  ]
}