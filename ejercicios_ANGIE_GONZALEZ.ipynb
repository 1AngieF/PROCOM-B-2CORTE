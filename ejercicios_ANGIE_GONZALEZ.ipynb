{
  "nbformat": 4,
  "nbformat_minor": 0,
  "metadata": {
    "colab": {
      "provenance": []
    },
    "kernelspec": {
      "name": "python3",
      "display_name": "Python 3"
    },
    "language_info": {
      "name": "python"
    }
  },
  "cells": [
    {
      "cell_type": "markdown",
      "source": [
        "##EJERCICOS POR LISTAS \n",
        "La lista por comprensión es una construcción disponible en python con la que se puede crear lista a parit de otros elementos iterables. Siendo una de las contracciones mas elegantes del lengueje. A continuación, se mostraá la sitaxis básica para trabajar con las listas por comprensión."
      ],
      "metadata": {
        "id": "2v0WZDSuluhv"
      }
    },
    {
      "cell_type": "code",
      "source": [
        "#los tipos de datos mutables son todos aquellos q los que es posible cambiar, modificar o actualizar su contenido \n",
        "#los objerivos mutables más comunes son las listas, diccionarios y conjuntos que sirven para guardar colecciones de dartos \n",
        "\n",
        "\n",
        "#Sintaxis de listas por comprensión\n",
        "nuevva_lista=[expresión bucle_for condiciones]\n",
        "\n",
        "#entre corchetes se escribe una expresión seguida de bucle for sobre el que se inrera, para finalmente escribir una condiciones "
      ],
      "metadata": {
        "id": "CoJ04P5Foufw"
      },
      "execution_count": null,
      "outputs": []
    },
    {
      "cell_type": "code",
      "source": [
        "numbers=[1,2,3,4]\n",
        "results = []\n",
        "for n in numbers:\n",
        "  results.append(n+1)\n",
        "results"
      ],
      "metadata": {
        "colab": {
          "base_uri": "https://localhost:8080/"
        },
        "id": "FxptJQSbqHRo",
        "outputId": "83c6df67-1260-4fbc-a75e-d246b20f9339"
      },
      "execution_count": null,
      "outputs": [
        {
          "output_type": "execute_result",
          "data": {
            "text/plain": [
              "[2, 3, 4, 5]"
            ]
          },
          "metadata": {},
          "execution_count": 28
        }
      ]
    },
    {
      "cell_type": "markdown",
      "source": [
        "#CONDICIONES EN LAS LISTAS POR COMPRENSIÓN\n",
        "Es posible añadir condiciones a las listas por comprensión en python, para lo que se tiene que agregar al fianl con la condición"
      ],
      "metadata": {
        "id": "2H9O5pCyqv5M"
      }
    },
    {
      "cell_type": "code",
      "source": [
        "numbers = [1, 2, 3, 4]\n",
        "results = [n + 1 for n in numbers if n < 5 ]\n",
        "results"
      ],
      "metadata": {
        "colab": {
          "base_uri": "https://localhost:8080/"
        },
        "id": "KiwbX_DQlwp2",
        "outputId": "5e2ee52b-72ea-41a3-9597-77b46f95ecef"
      },
      "execution_count": null,
      "outputs": [
        {
          "output_type": "execute_result",
          "data": {
            "text/plain": [
              "[2, 3, 4, 5]"
            ]
          },
          "metadata": {},
          "execution_count": 1
        }
      ]
    },
    {
      "cell_type": "code",
      "source": [
        "results2=lambda numbers:results\n",
        "print(results2(numbers))"
      ],
      "metadata": {
        "colab": {
          "base_uri": "https://localhost:8080/"
        },
        "id": "MCu2p1fCl1Te",
        "outputId": "ab198902-d02b-45a2-871d-9991d2188219"
      },
      "execution_count": null,
      "outputs": [
        {
          "output_type": "stream",
          "name": "stdout",
          "text": [
            "[2, 3, 4, 5]\n"
          ]
        }
      ]
    },
    {
      "cell_type": "markdown",
      "source": [
        "###**ejercicio con:** ANGIE\n",
        "\n",
        "\n",
        "*   FUNCIONES POR COMPRENSIÓN\n",
        "*   FUNCIONES POR LANDA\n",
        "*   FUNCIONES NORMAL CON UN DEF "
      ],
      "metadata": {
        "id": "AgR4V0UUl6Hu"
      }
    },
    {
      "cell_type": "code",
      "source": [
        "nom1 = ['Samuelle' ,'Angie' ,'Valentina', 'Alejandro', 'Jonsito']\n",
        "nom2 = ['Samuelle' ,'Andrea' ,'Samdra', 'Anderson', 'Jonsito']"
      ],
      "metadata": {
        "id": "95bX2Xsbl8r-"
      },
      "execution_count": null,
      "outputs": []
    },
    {
      "cell_type": "code",
      "source": [
        "#POR COMPRENSÓN\n",
        "common={a for a in nom1 for b in nom2 if a == b}\n",
        "common"
      ],
      "metadata": {
        "colab": {
          "base_uri": "https://localhost:8080/"
        },
        "id": "h_nMzcKYmHFV",
        "outputId": "54175fcd-59d6-43f1-8e28-ffb9af42d50c"
      },
      "execution_count": null,
      "outputs": [
        {
          "output_type": "execute_result",
          "data": {
            "text/plain": [
              "{'Jonsito', 'Samuelle'}"
            ]
          },
          "metadata": {},
          "execution_count": 12
        }
      ]
    },
    {
      "cell_type": "code",
      "source": [
        "#por LAMBDA\n",
        "common1=lambda nom1,nom2:common\n",
        "print(common1(nom1,nom2))"
      ],
      "metadata": {
        "colab": {
          "base_uri": "https://localhost:8080/"
        },
        "id": "unfIjemWmUqe",
        "outputId": "b81b85b4-aa37-4e6d-c314-ef2fa99df566"
      },
      "execution_count": null,
      "outputs": [
        {
          "output_type": "stream",
          "name": "stdout",
          "text": [
            "{'Jonsito', 'Samuelle'}\n"
          ]
        }
      ]
    },
    {
      "cell_type": "code",
      "source": [
        "#por DEF  \n",
        "def common(nom1,nom2):\n",
        "  return nom1,nom2"
      ],
      "metadata": {
        "id": "NaEXjwUsnD3a"
      },
      "execution_count": null,
      "outputs": []
    },
    {
      "cell_type": "code",
      "source": [
        "nom1,nom2"
      ],
      "metadata": {
        "colab": {
          "base_uri": "https://localhost:8080/"
        },
        "id": "CDib2zlPmhv_",
        "outputId": "3af35ae0-0bc6-4051-ab24-b6c19ec4175c"
      },
      "execution_count": null,
      "outputs": [
        {
          "output_type": "execute_result",
          "data": {
            "text/plain": [
              "(['Samuelle', 'Angie', 'Valentina', 'Alejandro', 'Jonsito'],\n",
              " ['Samuelle', 'Andrea', 'Samdra', 'Anderson', 'Jonsito'])"
            ]
          },
          "metadata": {},
          "execution_count": 15
        }
      ]
    },
    {
      "cell_type": "code",
      "source": [
        "#número perfecto \n",
        "\n",
        "def perfecto(número):\n",
        "  perf=0\n",
        "  for i in range(1,número):\n",
        "    if número%i==0:\n",
        "      perf+=i\n",
        "    if perf==número:\n",
        "      print(\"es número perfecto\")\n",
        "      return True \n",
        "    else:\n",
        "      print(\"no es número perfecto\")\n",
        "  número=6\n",
        "perfecto(número) \n"
      ],
      "metadata": {
        "id": "J_Acvx1kmqm8"
      },
      "execution_count": null,
      "outputs": []
    },
    {
      "cell_type": "code",
      "source": [
        "def números():\n",
        "  a=int(input(\"ingresa un número\"))\n",
        "  b=int(input(\"ingresa un número\"))\n",
        "  c=int(input(\"ingresa un número\")) \n",
        "  d=int(input(\"ingresa un número\"))\n",
        "  perfect4=[a,b,c,d]\n",
        "\n",
        "  perfect1=[elemento for elemento in perfect if perfecto(elemento)==True ] \n",
        "números()"
      ],
      "metadata": {
        "colab": {
          "base_uri": "https://localhost:8080/"
        },
        "id": "96czpqSFuozA",
        "outputId": "45c1fef4-1dc6-42f6-c1af-c943c2295e3f"
      },
      "execution_count": null,
      "outputs": [
        {
          "output_type": "stream",
          "name": "stdout",
          "text": [
            "ingresa un número1\n",
            "ingresa un número2\n",
            "ingresa un número3\n",
            "ingresa un número4\n",
            "no es número perfecto\n",
            "no es número perfecto\n",
            "es número perfecto\n",
            "no es número perfecto\n",
            "no es número perfecto\n",
            "no es número perfecto\n",
            "es número perfecto\n",
            "no es número perfecto\n",
            "no es número perfecto\n",
            "no es número perfecto\n",
            "no es número perfecto\n",
            "es número perfecto\n",
            "no es número perfecto\n",
            "no es número perfecto\n",
            "no es número perfecto\n",
            "no es número perfecto\n",
            "no es número perfecto\n",
            "es número perfecto\n"
          ]
        }
      ]
    },
    {
      "cell_type": "code",
      "source": [
        "lista=[2,3,6,4]\n",
        "#lambda y map\n",
        "perfec2=list(map(lambda elemento:perfecto(elemento)==True,lista))\n",
        "perfec2"
      ],
      "metadata": {
        "colab": {
          "base_uri": "https://localhost:8080/"
        },
        "id": "488hO4PMusB2",
        "outputId": "53d9ac4d-efcc-4e4e-ced3-a7675ee27fe1"
      },
      "execution_count": null,
      "outputs": [
        {
          "output_type": "stream",
          "name": "stdout",
          "text": [
            "no es número perfecto\n",
            "no es número perfecto\n",
            "no es número perfecto\n",
            "es número perfecto\n",
            "no es número perfecto\n",
            "no es número perfecto\n",
            "no es número perfecto\n",
            "no es número perfecto\n",
            "es número perfecto\n",
            "no es número perfecto\n",
            "no es número perfecto\n",
            "es número perfecto\n",
            "no es número perfecto\n",
            "no es número perfecto\n",
            "no es número perfecto\n",
            "no es número perfecto\n",
            "no es número perfecto\n",
            "es número perfecto\n"
          ]
        },
        {
          "output_type": "execute_result",
          "data": {
            "text/plain": [
              "[False, False, True, False]"
            ]
          },
          "metadata": {},
          "execution_count": 49
        }
      ]
    },
    {
      "cell_type": "code",
      "source": [
        "##metodo clasico de juandivox\n",
        "import random\n",
        "num1= [random.randint(0,2000)for x in range(100)]\n",
        "num2= [random.randint(0,2000)for x in range(100)]\n",
        "comun=[]\n",
        "for a in num1:\n",
        "  for b in num2:\n",
        "    if a==b:\n",
        "      comun.append(a)\n",
        "print(comun)"
      ],
      "metadata": {
        "colab": {
          "base_uri": "https://localhost:8080/"
        },
        "id": "1hhwNTGxoYfV",
        "outputId": "451a6a64-ed30-4776-a023-e59c667adaae"
      },
      "execution_count": null,
      "outputs": [
        {
          "output_type": "stream",
          "name": "stdout",
          "text": [
            "[386, 1455, 449, 720, 48, 583]\n"
          ]
        }
      ]
    },
    {
      "cell_type": "code",
      "source": [
        "##lamdba y filter \n",
        "import random\n",
        "num1= [random.randint(0,2000)for x in range(100)]\n",
        "num2= [random.randint(0,2000)for x in range(100)]\n",
        "comun=[]\n",
        "comun=list(filter(lambda num:num in num1,num2))\n",
        "print(comun)"
      ],
      "metadata": {
        "colab": {
          "base_uri": "https://localhost:8080/"
        },
        "id": "jE-l_5gKplFH",
        "outputId": "35780e65-95de-4dd8-8aa3-ecf757855f63"
      },
      "execution_count": null,
      "outputs": [
        {
          "output_type": "stream",
          "name": "stdout",
          "text": [
            "[1563, 858, 1774, 1964, 1480, 369, 492, 1960, 1243, 1003]\n"
          ]
        }
      ]
    },
    {
      "cell_type": "code",
      "source": [
        "##metodo comprension\n",
        "import random\n",
        "num1= [random.randint(0,2000)for x in range(100)]\n",
        "num2= [random.randint(0,2000)for x in range(100)]\n",
        "comun=[x for x in num1 for y in num2 if x==y]\n",
        "print(comun)"
      ],
      "metadata": {
        "colab": {
          "base_uri": "https://localhost:8080/"
        },
        "id": "Ul8ZtRgWqIyC",
        "outputId": "027a5d12-7c93-4812-c0e4-e4f2d51bc4f6"
      },
      "execution_count": null,
      "outputs": [
        {
          "output_type": "stream",
          "name": "stdout",
          "text": [
            "[172, 230, 1226, 157, 1741]\n"
          ]
        }
      ]
    },
    {
      "cell_type": "code",
      "source": [
        "#Alejandro \n",
        "lambda_func= lambda x: x**2 #función que recoge un número entero y devuleve su duadrado\n",
        "lambda_func(3) #retorna 9 "
      ],
      "metadata": {
        "colab": {
          "base_uri": "https://localhost:8080/"
        },
        "id": "I_7wCbMGtqon",
        "outputId": "346e252f-fc3e-4181-b74f-ee0b3ab7d1da"
      },
      "execution_count": null,
      "outputs": [
        {
          "output_type": "execute_result",
          "data": {
            "text/plain": [
              "9"
            ]
          },
          "metadata": {},
          "execution_count": 19
        }
      ]
    },
    {
      "cell_type": "code",
      "source": [
        "#tradicional \n",
        "def square1(num):\n",
        "  return num**2\n",
        "print(square1(5))"
      ],
      "metadata": {
        "colab": {
          "base_uri": "https://localhost:8080/"
        },
        "id": "mcL0SuWEumD_",
        "outputId": "5a4e9e4a-c500-4ad5-e8f8-f34250a63497"
      },
      "execution_count": null,
      "outputs": [
        {
          "output_type": "stream",
          "name": "stdout",
          "text": [
            "25\n"
          ]
        }
      ]
    },
    {
      "cell_type": "code",
      "source": [
        "#comprensión\n",
        "L=[1,2,3,4]\n",
        "L2=[n**2 for n in L]\n",
        "print(L2)"
      ],
      "metadata": {
        "colab": {
          "base_uri": "https://localhost:8080/"
        },
        "id": "jJV3_LpTu5IH",
        "outputId": "063eb238-d9f4-4c2f-fa9f-2fff56ac7403"
      },
      "execution_count": null,
      "outputs": [
        {
          "output_type": "stream",
          "name": "stdout",
          "text": [
            "[1, 4, 9, 16]\n"
          ]
        }
      ]
    },
    {
      "cell_type": "code",
      "source": [
        "##valentina  \n",
        "\n",
        "#Tradicional\n",
        "def listaIMC(usuarios):\n",
        "  sis = []\n",
        "  imc=[]\n",
        "  b=0\n",
        "  a2=0\n",
        "  for n in range (usuarios):\n",
        "    w=input(\"¿Cuál es tu nombre?  \") \n",
        "    sis.append((w,b/a2**2))\n",
        "    imc.append(b/a2**2)\n",
        "  return sis,imc\n",
        "\n",
        "\n",
        "user=int(input(\"¿Cuántos usuarios hay? \"))\n",
        "\n",
        "sis,imc=listaIMC(user)"
      ],
      "metadata": {
        "id": "m-z173DhKLG3"
      },
      "execution_count": null,
      "outputs": []
    },
    {
      "cell_type": "code",
      "source": [
        "imc"
      ],
      "metadata": {
        "id": "62FrLc0rKOJY"
      },
      "execution_count": null,
      "outputs": []
    },
    {
      "cell_type": "code",
      "source": [
        "#Comprensión\n",
        "sis2\n",
        "=listaIMC(user)\n",
        "sis2=[n for n in imc if n>= 18.5]\n",
        "print(sis2)"
      ],
      "metadata": {
        "id": "dQtv8rnKKWEs"
      },
      "execution_count": null,
      "outputs": []
    },
    {
      "cell_type": "code",
      "source": [
        "sis"
      ],
      "metadata": {
        "id": "uCILpD_zKbbJ"
      },
      "execution_count": null,
      "outputs": []
    },
    {
      "cell_type": "code",
      "source": [
        "sis[1][1]"
      ],
      "metadata": {
        "id": "wadKpZo4Kcd1"
      },
      "execution_count": null,
      "outputs": []
    },
    {
      "cell_type": "code",
      "source": [
        "#Lambda\n",
        "#IMC2=[28,30,40,35,100]\n",
        "#sis=listaIMC(user)\n",
        "sis3=list(map(lambda x: \"peso insuficiente\" if x<18.5 else \"peso normal\" if (x>=18.5 and x<24.9) else \"sobrepeso\" if (x>=24.9 and x<30) else \"obesidad\",imc))\n",
        "sis3vvv"
      ],
      "metadata": {
        "id": "1vRZWTNLKf3j"
      },
      "execution_count": null,
      "outputs": []
    },
    {
      "cell_type": "code",
      "source": [],
      "metadata": {
        "id": "rZOOdtq1KtQF"
      },
      "execution_count": null,
      "outputs": []
    },
    {
      "cell_type": "code",
      "source": [
        "## Luis Miguel \n",
        "#Tradicional\n",
        "print(\"ingrese su código \")\n",
        "caracter=input()\n",
        "if len(caracter) ==8:\n",
        "  if caracter[0]== \"u\":\n",
        "    print(\"Eres estudiante Unab\")\n",
        "  elif(caracter.startswhith(\"a000\")):\n",
        "    print(\"Eres estudiante de los andes\")\n",
        "  else:\n",
        "    if(int(caracter)>=1950):\n",
        "      print(\"Eres estudiante UIS\")\n",
        "else:\n",
        "  print(\"No corresponde a ninguna universidad, revisa tu código\")"
      ],
      "metadata": {
        "colab": {
          "base_uri": "https://localhost:8080/"
        },
        "id": "v38UGSFYIS2W",
        "outputId": "5639cc1e-4731-40aa-c88b-d596da1b9d79"
      },
      "execution_count": null,
      "outputs": [
        {
          "output_type": "stream",
          "name": "stdout",
          "text": [
            "ingrese su código \n",
            "233\n",
            "No corresponde a ninguna universidad, revisa tu código\n"
          ]
        }
      ]
    },
    {
      "cell_type": "code",
      "source": [
        "#Comprensión\n",
        "universidades=[\"unab\",\"uis\",\"andes\"]\n",
        "codigo=[\"U0123456\",\"198562\",\"a0005645\"]\n",
        "\n",
        "u=[cod for cod in codigo if cod[0]==\"u\" and len(cod)==8]\n",
        "print(u)"
      ],
      "metadata": {
        "colab": {
          "base_uri": "https://localhost:8080/"
        },
        "id": "A9MhXI6gIdot",
        "outputId": "64bc1942-63ec-45e9-9c51-c0a0ef19c2af"
      },
      "execution_count": null,
      "outputs": [
        {
          "output_type": "stream",
          "name": "stdout",
          "text": [
            "[]\n"
          ]
        }
      ]
    },
    {
      "cell_type": "code",
      "source": [
        "#Lambda\n",
        "y=list(map(lambda x:\"unab\" if (x[0]==\"U\")))"
      ],
      "metadata": {
        "id": "8pQ8Ph03KCVH"
      },
      "execution_count": null,
      "outputs": []
    },
    {
      "cell_type": "code",
      "source": [
        "#normla\n",
        "print(\"ingrese su codigo\")\n",
        "caracter=input()\n",
        "if len(caracter)==8:\n",
        "  if caracter[0]==\"u\":\n",
        "    print(\"eres estudiantee unab\")\n",
        "  elif(caracter,startswith(\"6000\")):\n",
        "    print(\"eres estudiante de los andes\")\n",
        "  else:\n",
        "    if(int(caracter)>=1950):\n",
        "      print(\"esres estudiante de la uis\") \n",
        "else:\n",
        "    print(\"no coresponde a nunguna universidad, revisaa tu codigo\")\n"
      ],
      "metadata": {
        "colab": {
          "base_uri": "https://localhost:8080/"
        },
        "id": "lYmBhMEnMqGW",
        "outputId": "8dab154e-9f63-4476-8ed0-9e982abbf311"
      },
      "execution_count": null,
      "outputs": [
        {
          "output_type": "stream",
          "name": "stdout",
          "text": [
            "ingrese su codigo\n",
            "105436\n",
            "no coresponde a nunguna universidad, revisaa tu codigo\n"
          ]
        }
      ]
    },
    {
      "cell_type": "code",
      "source": [
        "#por comprensión \n",
        "universidades=[\"unab\",\"uis\",\"andes\"]\n",
        "codigo=[\"U0123456\",\"198562\",\"a0005645\"] \n",
        "\n",
        "u=[cod for cod in codigo if (cod[0]==\"u\" and len(cod)==8)] \n",
        "print(u)"
      ],
      "metadata": {
        "colab": {
          "base_uri": "https://localhost:8080/"
        },
        "id": "TM9MoWErOcOH",
        "outputId": "be56f197-e365-4ab4-92e1-b947ee23539e"
      },
      "execution_count": null,
      "outputs": [
        {
          "output_type": "stream",
          "name": "stdout",
          "text": [
            "[]\n"
          ]
        }
      ]
    },
    {
      "cell_type": "code",
      "source": [
        "y=list(map(lambda x:\"unab\" if (x[0]==\"u\" or x[0]==\"u\") else None, codigo)) \n",
        "print(y)"
      ],
      "metadata": {
        "id": "EA6LhgmYQujJ",
        "colab": {
          "base_uri": "https://localhost:8080/"
        },
        "outputId": "5c966c8a-59cf-4989-ef09-2288c7b1a1c1"
      },
      "execution_count": null,
      "outputs": [
        {
          "output_type": "stream",
          "name": "stdout",
          "text": [
            "[None, None, None]\n"
          ]
        }
      ]
    },
    {
      "cell_type": "code",
      "source": [
        "lista=[]\n",
        "x = 0\n",
        "while x==0:\n",
        "  entrada=input(\"ingresa un codigo\")\n",
        "  lista.append(entrada)\n",
        "  a=int(input(\"deseas ingresar otro?, ingresa 0 si lo deseas, si no ingrasa 1\"))\n",
        "  if (a==1):\n",
        "    x=x+1 \n",
        "listas=[\"u00123456\",\"a00987654\",\"U00234897\"]\n",
        "clasificación=list(map(lambda a: \"unab\" if a.startswith(\"U00\") or a.startwith(\"u00\") else \"los andes\" if a.sstartswith(\"A000\") or a.startwith(\"a000\") else None, lista))\n",
        "clasificación"
      ],
      "metadata": {
        "id": "dHXdSzNa_OSG"
      },
      "execution_count": null,
      "outputs": []
    },
    {
      "cell_type": "code",
      "source": [
        "lista=[]\n",
        "x = 0\n",
        "while x==0:\n",
        "  entrada=input(\"ingresa un codigo\")\n",
        "  lista.append(entrada)\n",
        "  a=int(input(\"deseas ingresar otro?, ingresa 0 si lo deseas, si no ingrasa 1\"))\n",
        "  if (a==1):\n",
        "    x=x+1\n",
        "\n",
        "clasificación = [a for a in lista if a.startswhith(\"U00\") and len(a)==9]\n",
        "print(f'hay {len(clasificación)} estuduante(s) de la unab y sus codigo(s)son {clasificación}')\n",
        "\n",
        "clasificación=[a for a in lista if a.startswhith(\"A00\") d len(a)==9]\n",
        "print(f'hay {len(clasificación)} estuduante(s) de los andes y sus codigo(s)son {clasificación}')"
      ],
      "metadata": {
        "id": "CVS07R8Sdcdf"
      },
      "execution_count": null,
      "outputs": []
    },
    {
      "cell_type": "code",
      "source": [
        "def funcion(lista, numDigitos, universidad, clascodigo):\n",
        "  clasificaación=[a for a in lista if a.startswith(clascodigo) and len(a)==numDigitos] \n",
        "  print(f'hay {len(clasificación)} estuadinte(s) de {universidad} y sus codigo(s) son {clasificación}')\n",
        "\n",
        "  lista=[]\n",
        "  x=0\n",
        "  while x==0:\n",
        "    entrada=input(\"ingrese un codigo\")\n",
        "    lista.append(entrada)\n",
        "    a=int(input(\"¿deseas infgresar otro?, ingresa 0 si lo deseas, sino ingresaa 1\"))\n",
        "    if (a==1):\n",
        "      x=x+1  \n",
        "\n",
        "función=(lista,9,'la unab','U00') \n",
        "función=(lista,9,'los andes','A00')"
      ],
      "metadata": {
        "id": "e0J0tLLdd4Hh"
      },
      "execution_count": null,
      "outputs": []
    },
    {
      "cell_type": "code",
      "source": [
        "#Armith\n",
        "#tradicional\n",
        "num=[1,2,3,4,5,6,7,8,9,10] \n",
        "exp=int(input(\"escriba su exponente: \"))\n",
        "x=len(num)\n",
        "for n in range(1,(x)):\n",
        "  num[n]=num[n]**exp\n",
        "print(num)\n",
        "def imprimir(num):\n",
        "  s=1\n",
        "  for i in num:\n",
        "    print(f\"/nel resultado del elemento {s} de la lista es {i}\")\n",
        "    s+=1\n",
        "\n",
        "imprimir(num)"
      ],
      "metadata": {
        "colab": {
          "base_uri": "https://localhost:8080/"
        },
        "id": "iCHshWylnHGG",
        "outputId": "c5101d1e-52f7-4777-c0b5-92309389f833"
      },
      "execution_count": null,
      "outputs": [
        {
          "output_type": "stream",
          "name": "stdout",
          "text": [
            "escriba su exponente: 9\n",
            "[1, 512, 19683, 262144, 1953125, 10077696, 40353607, 134217728, 387420489, 1000000000]\n",
            "/nel resultado del elemento 1 de la lista es 1\n",
            "/nel resultado del elemento 2 de la lista es 512\n",
            "/nel resultado del elemento 3 de la lista es 19683\n",
            "/nel resultado del elemento 4 de la lista es 262144\n",
            "/nel resultado del elemento 5 de la lista es 1953125\n",
            "/nel resultado del elemento 6 de la lista es 10077696\n",
            "/nel resultado del elemento 7 de la lista es 40353607\n",
            "/nel resultado del elemento 8 de la lista es 134217728\n",
            "/nel resultado del elemento 9 de la lista es 387420489\n",
            "/nel resultado del elemento 10 de la lista es 1000000000\n"
          ]
        }
      ]
    },
    {
      "cell_type": "code",
      "source": [
        "#por comprension \n",
        "num=[1,2,3,4,5,6,7,8,9,10] \n",
        "exp=int(input(\"escriba su exponente: \"))\n",
        "números=[n**exp for n in num] \n",
        "números \n",
        "imprimir(números)"
      ],
      "metadata": {
        "colab": {
          "base_uri": "https://localhost:8080/"
        },
        "id": "6uzejjQKE9eR",
        "outputId": "13e0317d-6061-4e2f-91d1-1e3eef90d0ef"
      },
      "execution_count": null,
      "outputs": [
        {
          "output_type": "stream",
          "name": "stdout",
          "text": [
            "escriba su exponente: 98\n",
            "/nel resultado del elemento 1 de la lista es 1\n",
            "/nel resultado del elemento 2 de la lista es 316912650057057350374175801344\n",
            "/nel resultado del elemento 3 de la lista es 57264168970223481226273458862846808078011946889\n",
            "/nel resultado del elemento 4 de la lista es 100433627766186892221372630771322662657637687111424552206336\n",
            "/nel resultado del elemento 5 de la lista es 315544362088404722164691426113114491869282574043609201908111572265625\n",
            "/nel resultado del elemento 6 de la lista es 18147739541668636280463618532168272792698436402026524209529776843597142818816\n",
            "/nel resultado del elemento 7 de la lista es 66009724686219550843768321818371771650147004059278069406814190436565131829325062449\n",
            "/nel resultado del elemento 8 de la lista es 31828687130226345097944463881396533766429193651030253916189694521162207808802136034115584\n",
            "/nel resultado del elemento 9 de la lista es 3279185047850305794305942247355304034928808057449314765118209404186327048164224481412156778321\n",
            "/nel resultado del elemento 10 de la lista es 100000000000000000000000000000000000000000000000000000000000000000000000000000000000000000000000000\n"
          ]
        }
      ]
    },
    {
      "cell_type": "code",
      "source": [
        "#lambda\n",
        "num=list(range(1,11))\n",
        "exp=int(input(\"escriba su exponente: \"))\n",
        "números=lambda num, exp:(n**exp for n in num)\n",
        "números=números(num,exp)\n",
        "imprimir=(list(números))"
      ],
      "metadata": {
        "colab": {
          "base_uri": "https://localhost:8080/"
        },
        "id": "Ny6AqUwiFuwP",
        "outputId": "96d81812-6d43-4c0d-e439-4923c1630995"
      },
      "execution_count": null,
      "outputs": [
        {
          "name": "stdout",
          "output_type": "stream",
          "text": [
            "escriba su exponente: 87\n"
          ]
        }
      ]
    },
    {
      "cell_type": "markdown",
      "source": [
        "**Como usar la compresión de diccionario para crear un diccionario de Python a partir de una iteración.**\n",
        "Podemos crear un nuevo diccionario en Python usando solamente un iterable si elegimos generar ya sea las claves o los valores en marcha.\n",
        "\n",
        "Cuando elegimos generar los valores en cuestión, podemos usar los items en el iterable cómo claves, y viceversa. La sintaxis general es mostrada bajo. Por favor, observa que los nombres entre <> son marcadores de posición para los nombres actuales de las variables.\n",
        "\n",
        "**Ejemplo 1**\n",
        "Supongamos que tenemos una lista de clientes que visitan nuestra tienda, y nos gustaría ofrecer un descuento aleatorio a cada cliente. Nos gustaría además, que el valor de descuento se encuentre entre 1y100.\n",
        "\n",
        "En Python, random.randint(i,j) retorna un valor entre i y j incluyendo ambos extremos. Por tanto, podemos utilizar la función randint() para generar un descuento entre 1y100 para cada cliente en la lista.\n",
        "\n",
        "El siguiente código nos mostrará cómo podemos crear un diccionario de descuentos a partir de la lista de clientes."
      ],
      "metadata": {
        "id": "Tp_5wQ-1vFyW"
      }
    },
    {
      "cell_type": "code",
      "source": [
        "#SANTIAGO CARVAJAL\n",
        "\n",
        "import random\n",
        "clientes=[\"Alex\",\"Bob\",\"Carol\",\"Dave\",\"Flow\",\"Katie\",\"Nate\"]\n",
        "diccionario_descuentos={cliente:random.randint(1,100) for cliente in clientes}\n",
        "print(diccionario_descuentos)"
      ],
      "metadata": {
        "id": "x1sa5fScaEWN"
      },
      "execution_count": null,
      "outputs": []
    },
    {
      "cell_type": "code",
      "source": [
        "#Santiago Carvajal\n",
        "import random\n",
        "clientes=[\"Alex\",\"Bob\",\"Carol\",\"Dave\",\"Flow\",\"Katie\",\"Nate\"]\n",
        "diccionario_descuentos=(dict(map(lambda diccionario_descuentos:(diccionario_descuentos,random.randint(1,100)),diccionario_descuentos)))\n",
        "print(diccionario_descuentos)"
      ],
      "metadata": {
        "id": "Wt1_8q0gaD3W"
      },
      "execution_count": null,
      "outputs": []
    },
    {
      "cell_type": "code",
      "source": [
        "#JAIME\n",
        "\n",
        "productos={\"papas\":1300, \"jugos\":1800, \"helados\":2300, \"dulces\":800, \"leche\":4200}\n",
        "operación={x:y*1.19 for (x,y) in productos.items()}\n",
        "print(f\"el precio son IVA de los productos es:{productos}\")\n",
        "print(\"°°\"*60)\n",
        "print(f\"el precio con IVA de los productos es:{operación}\")"
      ],
      "metadata": {
        "colab": {
          "base_uri": "https://localhost:8080/"
        },
        "id": "Rafkou_wU5cr",
        "outputId": "45681d58-e05d-4f4d-ad54-12537f22a25d"
      },
      "execution_count": 10,
      "outputs": [
        {
          "output_type": "stream",
          "name": "stdout",
          "text": [
            "el precio son IVA de los productos es:{'papas': 1300, 'jugos': 1800, 'helados': 2300, 'dulces': 800, 'leche': 4200}\n",
            "°°°°°°°°°°°°°°°°°°°°°°°°°°°°°°°°°°°°°°°°°°°°°°°°°°°°°°°°°°°°°°°°°°°°°°°°°°°°°°°°°°°°°°°°°°°°°°°°°°°°°°°°°°°°°°°°°°°°°°°°\n",
            "el precio con IVA de los productos es:{'papas': 1547.0, 'jugos': 2142.0, 'helados': 2737.0, 'dulces': 952.0, 'leche': 4998.0}\n"
          ]
        }
      ]
    },
    {
      "cell_type": "code",
      "source": [
        "#JAIME \n",
        "\n",
        "#lambda\n",
        "tienda = {\"papas\":1300,\"jugos\":1800,\"helados\":2300,\"dulces\":800,\"leche\":4200}\n",
        "compra = [\"papas\", \"jugos\", \"helados\", \"dulces\", \"leche\"] \n",
        "\n",
        "IVA =dict(map(lambda producto:(producto, tienda[producto]) if producto in tienda else (producto, None), compra)\n",
        "IVA"
      ],
      "metadata": {
        "id": "LzW8AAO7aBQe"
      },
      "execution_count": null,
      "outputs": []
    },
    {
      "cell_type": "code",
      "source": [
        "#JUAN DAVID VARGAS\n",
        "\n",
        "productos=[\"milk\",\"bread\",\"butter\",\"apple\",\"watermelon\",\"banana\",\"candy\",\"water\",\"ice\"]\n",
        "precio=[3,4,10,2,5,4,5,3,2,9,5,6,5] \n",
        "#la función zip comprime las 2 listas, convirtiendolas en pares key-value\n",
        "precio_productos = {productos:precio for (productos, precio)in zip(productos,precio) }\n",
        "print(precio_productos) \n",
        "##quiero hacerles un descuento a los productos que valen menos de 5 y ubicarlos dentro de otros diccionarios.\n",
        "###hizo un diccionario a partir de otros diccionarios \n",
        "descuentos = {productos:precio for (productos, precio) in precio_productos.items() if precio<5}\n",
        "print(descuentos)"
      ],
      "metadata": {
        "colab": {
          "base_uri": "https://localhost:8080/"
        },
        "id": "7DLnTGZbM8r-",
        "outputId": "3dd5c101-bc91-45a4-ecdc-e69f5ce9a8d8"
      },
      "execution_count": 9,
      "outputs": [
        {
          "output_type": "stream",
          "name": "stdout",
          "text": [
            "{'milk': 3, 'bread': 4, 'butter': 10, 'apple': 2, 'watermelon': 5, 'banana': 4, 'candy': 5, 'water': 3, 'ice': 2}\n",
            "{'milk': 3, 'bread': 4, 'apple': 2, 'banana': 4, 'water': 3, 'ice': 2}\n"
          ]
        }
      ]
    },
    {
      "cell_type": "code",
      "source": [
        "##LEANDRO \n",
        "\n",
        "\n",
        "#DICTIONARIEN USIG AN EXPRESSIO, WEATHER CITIES EN F° ANF C°\n",
        "\n",
        "def check_temp(value):\n",
        "  if value >=70:\n",
        "    return \"hot\"\n",
        "  elif 69 >= value >= 40:\n",
        "    return \"warn\"\n",
        "  else:\n",
        "    return \"cord\"\n",
        "  \n",
        "cities={\"New York\": 32, \"Boston\": 75, \"los Angele\": 100, \"Chincago\": 50}\n",
        "des_cities ={key: check_temp(value) for (key, value) in cities.items()}\n",
        "print(des_cities)\n"
      ],
      "metadata": {
        "colab": {
          "base_uri": "https://localhost:8080/"
        },
        "id": "egZGDyA_NEHm",
        "outputId": "e530a5f1-3be0-4844-df36-24ac1495c176"
      },
      "execution_count": 2,
      "outputs": [
        {
          "output_type": "stream",
          "name": "stdout",
          "text": [
            "{'New York': 'cord', 'Boston': 'hot', 'los Angele': 'hot', 'Chincago': 'warn'}\n"
          ]
        }
      ]
    },
    {
      "cell_type": "code",
      "source": [
        "#dictionaries using a expression, weather cities en F° anf C°\n",
        "def check_temp(value):\n",
        "  if value >=70:\n",
        "    return \"hot\"\n",
        "  elif 69 >= value >= 40:\n",
        "    return \"warn\"\n",
        "  else:\n",
        "    return \"cord\" \n",
        "\n",
        "cities={\"New York\": 32, \"Boston\": 75, \"los Angele\": 100, \"Chincago\": 50} \n",
        "des_cities=dict(map(lambda cit: check_temp(cities.values(cit), cities.items())))\n",
        "#another form \n",
        "de_cities={key: check_temp(value) for (key, value) in cities.items()}\n",
        "print(des_cities)"
      ],
      "metadata": {
        "id": "ABmmsYFzT0eL"
      },
      "execution_count": null,
      "outputs": []
    },
    {
      "cell_type": "code",
      "source": [
        "#Sebastian Zambrano\n",
        "import random\n",
        "compañeros=[]\n",
        "def aleatorio(opciones):\n",
        "  opciones=list(opciones)\n",
        "  while True:\n",
        "    x=random.choice(opciones)\n",
        "    opciones.remove(x)\n",
        "    yield x\n",
        "print(\"Para no agregar más nombres escribe '0'\")\n",
        "a=\"t\"\n",
        "while a!='0':\n",
        "  a=(input(\"Ingresa el nombre de tu compañero: \"))\n",
        "  if a!=\"0\":\n",
        "    compañeros.append(a)\n",
        "cantidad=len(compañeros)\n",
        "contador=0\n",
        "números=[]\n",
        "while contador!=(cantidad+1):\n",
        "  contador+=1\n",
        "  números.append(contador)\n",
        "alt=aleatorio(números)\n",
        "num_alt={}\n",
        "for s in range(cantidad):\n",
        "  num_alt[compañeros[s]]=next(alt)\n",
        "print(num_alt)"
      ],
      "metadata": {
        "id": "_Wb7ZC94uxTP"
      },
      "execution_count": null,
      "outputs": []
    },
    {
      "cell_type": "code",
      "source": [
        "#Sebastian Zambrano\n",
        "import random\n",
        "compañeros=[]\n",
        "def aleatorio(opciones):\n",
        "  opciones=list(opciones)\n",
        "  while True:\n",
        "    x=random.choice(opciones)\n",
        "    opciones.remove(x)\n",
        "    yield x\n",
        "print(\"Para no agregar más nombres escribe '0'\")\n",
        "a=\"t\"\n",
        "while a!='0':\n",
        "  a=(input(\"Ingresa el nombre de tu compañero: \"))\n",
        "  if a!=\"0\":\n",
        "    compañeros.append(a)\n",
        "cantidad=len(compañeros)\n",
        "números=[num for num in range(1,(cantidad+1))]\n",
        "alt=aleatorio(números)\n",
        "num_alt={orden:next(alt) for orden in compañeros}\n",
        "print(num_alt)"
      ],
      "metadata": {
        "id": "u9BVbxp7uljW"
      },
      "execution_count": null,
      "outputs": []
    },
    {
      "cell_type": "code",
      "source": [
        "#Sebastian Zambrano\n",
        "\n",
        "import random\n",
        "compañeros=[]\n",
        "def aleatorio(opciones):\n",
        "  opciones=list(opciones)\n",
        "  while True:\n",
        "    x=random.choice(opciones)\n",
        "    opciones.remove(x)\n",
        "    yield x\n",
        "print(\"Para no agregar más nombres escribe '0'\")\n",
        "a=\"t\"\n",
        "while a!='0':\n",
        "  a=(input(\"Ingresa el nombre de tu compañero: \"))\n",
        "  if a!=\"0\":\n",
        "    compañeros.append(a)\n",
        "cantidad=len(compañeros)\n",
        "números=[num for num in range(1,(cantidad+1))]\n",
        "alt=aleatorio(números)\n",
        "num_alt={orden:next(alt) for orden in compañeros}\n",
        "print(num_alt)"
      ],
      "metadata": {
        "id": "XxgmJeplm4sx"
      },
      "execution_count": 26,
      "outputs": []
    },
    {
      "cell_type": "code",
      "source": [
        "#Daniel Rodriguez\n",
        "import random\n",
        "diccionario=[\"cliente 1\",\"cliente 2\",\"cliente 3\",\"cliente 4\",\"cliente 5\"]\n",
        "tienda={diccionario: random.randint(1000,100000) for diccionario in diccionario}\n",
        "tienda_sort=sorted(tienda.values())\n",
        "mayor=tienda_sort[-1]\n",
        "mayor1=tienda_sort[4::]\n",
        "cliente=list(tienda.values()).index(mayor)\n",
        "if cliente==0:\n",
        "  a=\"cliente 1\"\n",
        "if cliente==1:\n",
        "  a=\"cliente 2\"\n",
        "if cliente==2:\n",
        "  a=\"cliente 3\"\n",
        "if cliente==3:\n",
        "  a=\"cliente 4\"\n",
        "if cliente==4:\n",
        "  a=\"cliente 5\"\n",
        "oferta={producto*0.8 for producto in mayor1}\n",
        "print(f\"El {a} tuvo la mayor compra con un valor de: {mayor}, por lo tanto obtuvo un descuento del 20%, su total fue: {oferta}\")"
      ],
      "metadata": {
        "id": "uuF5VQ0PuVYW"
      },
      "execution_count": null,
      "outputs": []
    },
    {
      "cell_type": "code",
      "source": [
        "#Daniel Rodriguez\n",
        "import random\n",
        "diccionario=[\"cliente 1\",\"cliente 2\",\"cliente 3\",\"cliente 4\",\"cliente 5\"]\n",
        "def cositas (a):\n",
        " tienda={diccionario: random.randint(1000,100000) for diccionario in diccionario}\n",
        " tienda_sort=sorted(tienda.values())\n",
        " mayor=tienda_sort[-1]\n",
        " mayor1=tienda_sort[4::]\n",
        " cliente=list(tienda.values()).index(mayor)\n",
        " if cliente==0:\n",
        "   a=\"cliente 1\"\n",
        " if cliente==1:\n",
        "   a=\"cliente 2\"\n",
        " if cliente==2:\n",
        "   a=\"cliente 3\"\n",
        " if cliente==3:\n",
        "   a=\"cliente 4\"\n",
        " if cliente==4:\n",
        "   a=\"cliente 5\"\n",
        " oferta={producto*0.8 for producto in mayor1}\n",
        " print(f\"El {a} tuvo la mayor compra con un valor de: {mayor}, por lo tanto obtuvo un descuento del 20%, su total fue: {oferta}\")\n",
        "cositas(diccionario)"
      ],
      "metadata": {
        "id": "xpaaInfhuTDO"
      },
      "execution_count": null,
      "outputs": []
    },
    {
      "cell_type": "code",
      "source": [
        "#Daniel Rodriguez\n",
        "import random\n",
        "diccionario=[\"cliente 1\",\"cliente 2\",\"cliente 3\",\"cliente 4\",\"cliente 5\"]\n",
        "tienda=(dict(map(lambda tienda:(tienda,random.randint(1000,100000)),diccionario)))\n",
        "tienda_sort=sorted(tienda.values())\n",
        "mayor=tienda_sort[-1]\n",
        "mayor1=tienda_sort[4::]\n",
        "cliente=list(tienda.values()).index(mayor)\n",
        "oferta={producto*0.8 for producto in mayor1}\n",
        "def get_key (val):\n",
        "  for key,value in tienda.items():\n",
        "    if val==value:\n",
        "     return key\n",
        "print(f\"El {get_key(mayor)} tuvo la mayor compra con un valor de: {mayor}, por lo tanto obtuvo un descuento del 20%, su total fue: {oferta}\")"
      ],
      "metadata": {
        "id": "SKn6B3-9T1Or"
      },
      "execution_count": null,
      "outputs": []
    },
    {
      "cell_type": "code",
      "source": [
        "##ADRIAN PARRA \n",
        "\n",
        "#COMPRENSIÓN \n",
        "nomre=str(input(\"ingrese el nombre del atleta: \"))\n",
        "N=int(input(\"ingrese el número de saltos: \"))\n",
        "\n",
        "def fun(nombre, a):\n",
        "  lista=[]\n",
        "  for i in range(0,a):\n",
        "    name=str(f\"salto {i+1}\")\n",
        "    lista. append(name) \n",
        "\n",
        "print(\"--------------------\")\n",
        "print(\"la altura de los saltos se mide en metros\")\n",
        "dic_lista={lista:float(input(f\"ingrese la altura del salto: \")) for lista in lista}\n",
        "distancia=sorted(dic_lista.values())\n",
        "mayor=distancis[-1]\n",
        "print(\"-------------------\")\n",
        "print(f\"atleta {nombre}:\")\n",
        "print(dic_lista)\n",
        "sum=0\n",
        "for i in dic_lista.values():\n",
        "  sum+=1\n",
        "prom=sum/a\n",
        "redprom0round(prom, 2)\n",
        "print(f\"el promedio de los {a} saltos es de {redprom} metros, teniendo que el mayor fue aquel con {mayor} metros de altura\")\n",
        "\n",
        "fun(nombre, N)"
      ],
      "metadata": {
        "id": "7Vf7BDXKhP5R"
      },
      "execution_count": null,
      "outputs": []
    },
    {
      "cell_type": "code",
      "source": [
        "##ADRIAN PARRA \n",
        "#lambda\n",
        "from functools import reduce\n",
        "\n",
        "nombre=str(input(\"ingres el nombre del atleta: \"))\n",
        "a=int(input(\"ingrese el número de saltos: \")) \n",
        "\n",
        "lista=[]\n",
        "for i in range(0,a):\n",
        "  name=str(f\"salto {i+1}\")\n",
        "  lista.append(name) \n",
        "\n",
        "print(\"-----------------\")\n",
        "print(\"la altura de los saltos se mide en metros\") \n",
        "dic_lista=(dict(map(lambda x:(x, float(input(f\"ingrese la altura del salto:\"))), lista)))\n",
        "distancia=sorted(dic_listas.values())\n",
        "mayor=distancia[-1]\n",
        "print(\"------------------\")\n",
        "print(f\"atleta{nombre}:\")\n",
        "print(dic_lista)\n",
        "\n",
        "sum=reduce(lambda distancia,distancia1:distancia+distancia1, distancia)\n",
        "\n",
        "prom=float(sum)/a\n",
        "redprom=round(prom, 2)\n",
        "print(f\"el promedio de los dos {a} saltos es de {redprom} metros, teniendo que el mayor fue aquel con {mayor} metros que altura\")"
      ],
      "metadata": {
        "id": "Lapp2CH8mxKB"
      },
      "execution_count": null,
      "outputs": []
    },
    {
      "cell_type": "code",
      "source": [
        "#SANTIAGO GALINDO\n",
        "\n",
        "#normal\n",
        "from typing_extensions import DefaultDict\n",
        "import random\n",
        "cs=[\"Andru\", \"David\", \"Sebas\"]\n",
        "CS=[\"Andres\", \"Flowey\", \"cata\", \"Karen\"]\n",
        "dd={cs:random.randint(1,50) for cs in cs}\n",
        "dd1={CS:random.randint(1,50) for CS in CS} \n",
        "print(dd,dd1)"
      ],
      "metadata": {
        "colab": {
          "base_uri": "https://localhost:8080/"
        },
        "id": "Q7yPKUvAbEC9",
        "outputId": "ce5969ff-fc77-46ab-e83d-0bac95aa45d7"
      },
      "execution_count": 29,
      "outputs": [
        {
          "output_type": "stream",
          "name": "stdout",
          "text": [
            "{'Andru': 50, 'David': 12, 'Sebas': 24} {'Andres': 31, 'Flowey': 27, 'cata': 46, 'Karen': 21}\n"
          ]
        }
      ]
    },
    {
      "cell_type": "code",
      "source": [
        "#SANTIAGO GALINDO\n",
        "#def\n",
        "from typing_extensions import DefaultDict\n",
        "\n",
        "import random\n",
        "def A ():\n",
        "  CS=[\"Andru\", \"David\", \"Sebas\"]\n",
        "  CS=[\"Andres\", \"Flowey\", \"Cata\", \"Karen\"]\n",
        "  DD={CS: random.randint(1,50) for CS in CS}\n",
        "  DD1= {CS: random.randint(1,50) for CS in CS}\n",
        "  return(DD, DD1)\n",
        "A()"
      ],
      "metadata": {
        "colab": {
          "base_uri": "https://localhost:8080/"
        },
        "id": "qG5ZB1gPr2g7",
        "outputId": "1f7a38c2-7b49-4616-83cb-43d1c41546ac"
      },
      "execution_count": 31,
      "outputs": [
        {
          "output_type": "execute_result",
          "data": {
            "text/plain": [
              "({'Andres': 25, 'Flowey': 1, 'Cata': 16, 'Karen': 13},\n",
              " {'Andres': 40, 'Flowey': 47, 'Cata': 21, 'Karen': 13})"
            ]
          },
          "metadata": {},
          "execution_count": 31
        }
      ]
    },
    {
      "cell_type": "code",
      "source": [
        "#SANTIAGO GALINDO\n",
        "#lambda \n",
        "\n",
        "from typing_extensions import DefaultDict\n",
        "import random\n",
        "cs =[\"Andru\", \"David\", \"Sebas\"]\n",
        "CS =[\"Andres\", \"Flowey\", \"Cata\", \"Karen\"]\n",
        "DD = (dict(map(lambda DD: (DD, random.randint(1,50)), cs)))\n",
        "DD1 = (dict(map(lambda DD1: (DD1, random.randint(1,50)), CS)))\n",
        "print (DD, DD1)"
      ],
      "metadata": {
        "colab": {
          "base_uri": "https://localhost:8080/"
        },
        "id": "E9YJkEGNsAnK",
        "outputId": "c3181775-6124-4fa1-8741-6c69212102d1"
      },
      "execution_count": 33,
      "outputs": [
        {
          "output_type": "stream",
          "name": "stdout",
          "text": [
            "{'Andru': 3, 'David': 47, 'Sebas': 6} {'Andres': 3, 'Flowey': 34, 'Cata': 17, 'Karen': 5}\n"
          ]
        }
      ]
    },
    {
      "cell_type": "code",
      "source": [
        "#Juan Nicolas Zuluaga\n",
        "import random\n",
        "listado_numerico=[]\n",
        "while True:\n",
        "   nombres=str(input(\"¿Ingrese el nombre del cliente?: \"))\n",
        "   listado_numerico.append(nombres) \n",
        "   confirmador=str(input(\"¿Hubo mas clientes el día de hoy?: \"))\n",
        "   confirmador.lower()\n",
        "   if confirmador == \"no\":\n",
        "     break\n",
        "print(listado_numerico)\n",
        "catalogocomp={listado_numerico: random.randint(100,5000) for listado_numerico in listado_numerico}\n",
        "\n",
        "costes=sorted(catalogocomp)\n",
        "\n",
        "mayor=max(catalogocomp,key=catalogocomp.get)\n",
        "\n",
        "gastos= sum(catalogocomp.values())*0.8 if sum(catalogocomp.values())>10000 else sum(catalogocomp.values())\n",
        "print(mayor)\n",
        "\n",
        "descuentos_prod=[0.6,0,8,0.5]\n",
        "catalogo_descuentos={listado_numerico:random.choice(descuentos_prod)*random.randint(100,5000) for listado_numerico in listado_numerico if random.randint(100,5000)>4000  }\n",
        "\n",
        "\n",
        "catalogo_descuentos"
      ],
      "metadata": {
        "id": "KvaWv3mgbIc1"
      },
      "execution_count": null,
      "outputs": []
    },
    {
      "cell_type": "code",
      "source": [
        "#Juan Arenales\n",
        "import pandas as pd\n",
        "import random\n",
        "def menu(C,E,N,n):\n",
        "  b=int(input(\"Menú:\\n1)Añadir contacto\\n2)Eliminar contacto\\n3)Lista de contacto\\n4)Darle emojis aleatorios\\n\"))\n",
        "  if b==1: #Añade contactos\n",
        "    d=input(\"Nombre: \") #Ingresa el nombre\n",
        "    f=d in N #Si el nombre ya esta en los contactos f es True, sino es false\n",
        "    while f==True:\n",
        "      d=input(\"Ya existe un contacto con ese nombre, escoja otro: \")\n",
        "      f=d in C[\"Nombre\"]\n",
        "    e=input(\"Número: \") #Ingresa el numero\n",
        "    N.append(d) #Añade el nombre a la lista N\n",
        "    n.append(e) #Añade el numero a la lista n\n",
        "  if b==2:# Elimina contactos\n",
        "    o=int(input(\"1)Eliminar por nombre\\n2)Eliminar por número\\n\")) #Da dos opciones para eliminar un contacto\n",
        "    if o==1: #Eliminar por nombre\n",
        "      d=input(\"Nombre: \") #Ingresa el nombre\n",
        "      f=d in N #Si el nombre ya esta en los contactos f es True, sino es false\n",
        "      if f==False:#Si ese contacto no existe en la lista\n",
        "        print(\"No existe un contacto con ese nombre\")\n",
        "      else:\n",
        "        i=N.index(d) #Busca la posición del Nombre\n",
        "        N.pop(i) #Elimina el nombre en esa posicion\n",
        "        n.pop(i) #Elimina el número en esa posicion\n",
        "    if o==2: #Eliminar por número\n",
        "      e=input(\"Número: \") #Ingresa el número\n",
        "      h= e in N #Si el numero ya esta en los contactos h es True, sino es false\n",
        "      if h==False: #Si ese contacto no existe en la lista\n",
        "        print(\"No existe un contacto con ese número\")\n",
        "      else:\n",
        "        i=n.index(e) #Busca la posición del Nombre\n",
        "        N.pop(i) #Elimina el nombre en esa posicion\n",
        "        n.pop(i) #Elimina el número en esa posicion\n",
        "  if b==3:#Imprime la lista de contactos\n",
        "    C={N[z]: n[z] for z in range(len(N)) }\n",
        "    print(C)\n",
        "  if b==4:#Le da emojis aleatorios a los contactos \n",
        "    C={N[z]: (n[z],E[random.randint(0,3)]) for z in range(len(N)) }\n",
        "    print(pd.DataFrame.from_dict(C)) #La imprime bonito con pandas\n",
        "\n",
        "  return C\n",
        "    \n",
        "C={}\n",
        "E=[\"B)\",\":)\",\"<3\",\">:v\"]#Emojis\n",
        "N=[\"juan\",\"Kyle\"]#Nombres default\n",
        "n=[\"453\",\"64782\"]#Números default\n",
        "\n",
        "a=True\n",
        "while a==True:\n",
        "  menu(C,E,N,n)"
      ],
      "metadata": {
        "id": "BJg-MPjCtcsN"
      },
      "execution_count": null,
      "outputs": []
    },
    {
      "cell_type": "code",
      "source": [
        "#JUAN ARENALES  \n",
        "import pandas as pd\n",
        "import random\n",
        "def menu(C,E,N,n):\n",
        "  b=int(input(\"Menú:\\n1)Añadir contacto\\n2)Eliminar contacto\\n3)Lista de contacto\\n4)Darle emojis aleatorios\\n\"))\n",
        "  if b==1:\n",
        "    d=input(\"Nombre: \")\n",
        "    f=d in N\n",
        "    while f==True:\n",
        "      d=input(\"Ya existe un contacto con ese nombre, escoja otro: \")\n",
        "      f=d in C[\"Nombre\"]\n",
        "    e=input(\"Número: \")\n",
        "    N.append(d)\n",
        "    n.append(e)\n",
        "  if b==2:\n",
        "    o=int(input(\"1)Eliminar por nombre\\n2)Eliminar por número\\n\"))\n",
        "    if o==1:\n",
        "      d=input(\"Nombre: \")\n",
        "      f=d in N\n",
        "      if f==False:\n",
        "        print(\"No existe un contacto con ese nombre\")\n",
        "      else:\n",
        "        i=N.index(d)\n",
        "        N.pop(i)\n",
        "        n.pop(i)\n",
        "    if o==2:\n",
        "      e=input(\"Número: \")\n",
        "      h= e in N\n",
        "      if h==False:\n",
        "        print(\"No existe un contacto con ese número\")\n",
        "      else:\n",
        "        i=n.index(e)\n",
        "        N.pop(i)\n",
        "        n.pop(i)\n",
        "  if b==3:\n",
        "    l=len(N)\n",
        "    for a in range(l): #Tradicional\n",
        "      C[N[a]]=n[a] \n",
        "    print(C)\n",
        "  if b==4:\n",
        "    l=len(N)\n",
        "    for a in range(l):#Tradicional\n",
        "      C[N[a]]=(n[a],E[random.randint(0,3)])\n",
        "    print(pd.DataFrame.from_dict(C))\n",
        "\n",
        "  return C\n",
        "C={}\n",
        "E=[\"B)\",\":)\",\"<3\",\">:v\"]\n",
        "N=[\"juan\",\"Kyle\"]\n",
        "n=[\"453\",\"64782\"]\n",
        "\n",
        "a=True\n",
        "while a==True:\n",
        "  menu(C,E,N,n)"
      ],
      "metadata": {
        "id": "esGjG_KfbOIl"
      },
      "execution_count": null,
      "outputs": []
    },
    {
      "cell_type": "code",
      "source": [
        "#JUAN ARENALES\n",
        "import pandas as pd\n",
        "import random\n",
        "def menu(C,E,N,n):\n",
        "  b=int(input(\"Menú:\\n1)Añadir contacto\\n2)Eliminar contacto\\n3)Lista de contacto\\n4)Darle emojis aleatorios\\n\"))\n",
        "  if b==1:\n",
        "    d=input(\"Nombre: \")\n",
        "    f=d in N\n",
        "    while f==True:\n",
        "      d=input(\"Ya existe un contacto con ese nombre, escoja otro: \")\n",
        "      f=d in C[\"Nombre\"]\n",
        "    e=input(\"Número: \")\n",
        "    N.append(d)\n",
        "    n.append(e)\n",
        "  if b==2:\n",
        "    o=int(input(\"1)Eliminar por nombre\\n2)Eliminar por número\\n\"))\n",
        "    if o==1:\n",
        "      d=input(\"Nombre: \")\n",
        "      f=d in N\n",
        "      if f==False:\n",
        "        print(\"No existe un contacto con ese nombre\")\n",
        "      else:\n",
        "        i=N.index(d)\n",
        "        N.pop(i)\n",
        "        n.pop(i)\n",
        "    if o==2:\n",
        "      e=input(\"Número: \")\n",
        "      h= e in N\n",
        "      if h==False:\n",
        "        print(\"No existe un contacto con ese número\")\n",
        "      else:\n",
        "        i=n.index(e)\n",
        "        N.pop(i)\n",
        "        n.pop(i)\n",
        "  if b==3:\n",
        "    l=len(N)\n",
        "    for a in range(l): #Tradicional\n",
        "      C[N[a]]=n[a] \n",
        "    print(C)\n",
        "  if b==4:\n",
        "    l=len(N)\n",
        "    for a in range(l):#Tradicional\n",
        "      C[N[a]]=(n[a],E[random.randint(0,3)])\n",
        "    print(pd.DataFrame.from_dict(C))\n",
        "\n",
        "  return C\n",
        "C={}\n",
        "E=[\"B)\",\":)\",\"<3\",\">:v\"]\n",
        "N=[\"juan\",\"Kyle\"]\n",
        "n=[\"453\",\"64782\"]\n",
        "\n",
        "a=True\n",
        "while a==True:\n",
        "  menu(C,E,N,n)"
      ],
      "metadata": {
        "id": "plTRQMWEu8yG"
      },
      "execution_count": null,
      "outputs": []
    }
  ]
}