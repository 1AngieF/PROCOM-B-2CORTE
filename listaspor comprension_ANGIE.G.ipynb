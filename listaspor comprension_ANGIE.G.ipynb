{
  "nbformat": 4,
  "nbformat_minor": 0,
  "metadata": {
    "colab": {
      "provenance": []
    },
    "kernelspec": {
      "name": "python3",
      "display_name": "Python 3"
    },
    "language_info": {
      "name": "python"
    }
  },
  "cells": [
    {
      "cell_type": "code",
      "execution_count": null,
      "metadata": {
        "id": "7fWOXlPgfG53"
      },
      "outputs": [],
      "source": [
        "listas por comprensión \n",
        "\n",
        "como insetar duplas \n",
        "por que las listas no son mitables?\n",
        "\n",
        "listas de conjuntos "
      ]
    },
    {
      "cell_type": "markdown",
      "source": [
        "#LISTAS POR COMPRENSIÓN\n",
        "Su sintaxis sucinta le permite crear nuevas listas en una o a mas línea de código\n",
        " "
      ],
      "metadata": {
        "id": "fLmTvTHUgF9Y"
      }
    },
    {
      "cell_type": "code",
      "source": [
        "#Donde se selecciona el valor de la primera lista si al iterar sobre la segunda también se encuentra en esta.  \n",
        "nom1 = ['Samuelle' ,'Angie' ,'Valentina', 'Alejandro', 'Jonsito']\n",
        "nom2 = ['Samuelle' ,'Andrea' ,'Samdra', 'Anderson', 'Jonsito']\n",
        "common = [a for a in nom1 for b in nom2 if a == b]\n",
        "common"
      ],
      "metadata": {
        "colab": {
          "base_uri": "https://localhost:8080/"
        },
        "id": "DqKRHmgVkkNU",
        "outputId": "9f11508c-b20c-4622-808a-4aac33f228c5"
      },
      "execution_count": 9,
      "outputs": [
        {
          "output_type": "execute_result",
          "data": {
            "text/plain": [
              "['Samuelle', 'Jonsito']"
            ]
          },
          "metadata": {},
          "execution_count": 9
        }
      ]
    },
    {
      "cell_type": "code",
      "source": [
        "super1=([\"arroz\", \"carne\", \"pechuga\", \"cebolla\", \"papa\"])\n",
        "super2=([\"carne\", \"cebolla\" \" maíz\", \"Panela\"])\n",
        "super3=([\"consomé\", \"cebolla\", \"avena\", \"carne\"])\n",
        "\n",
        "print(set(super1) & set(super2) & set(super3))\n",
        "\n"
      ],
      "metadata": {
        "colab": {
          "base_uri": "https://localhost:8080/"
        },
        "id": "ILcZXqGOxC7T",
        "outputId": "a1ae6721-eebe-49df-fd1b-3cdf513cdcbe"
      },
      "execution_count": 34,
      "outputs": [
        {
          "output_type": "stream",
          "name": "stdout",
          "text": [
            "{'carne'}\n"
          ]
        }
      ]
    },
    {
      "cell_type": "code",
      "source": [
        "super=super1+super2+super3\n",
        "super"
      ],
      "metadata": {
        "colab": {
          "base_uri": "https://localhost:8080/"
        },
        "id": "KUIuLTQx1Zvp",
        "outputId": "c1a3a4d3-3337-443c-c430-5197b15e4ce4"
      },
      "execution_count": 39,
      "outputs": [
        {
          "output_type": "execute_result",
          "data": {
            "text/plain": [
              "['arroz',\n",
              " 'carne',\n",
              " 'pechuga',\n",
              " 'cebolla',\n",
              " 'papa',\n",
              " 'carne',\n",
              " 'cebolla maíz',\n",
              " 'Panela',\n",
              " 'consomé',\n",
              " 'cebolla',\n",
              " 'avena',\n",
              " 'carne']"
            ]
          },
          "metadata": {},
          "execution_count": 39
        }
      ]
    },
    {
      "cell_type": "code",
      "source": [
        "comun=[comida for comida in super if comida != super.index(comida)]\n",
        "comun"
      ],
      "metadata": {
        "colab": {
          "base_uri": "https://localhost:8080/"
        },
        "id": "imO4Znen0DVJ",
        "outputId": "efaa2aa1-ee18-4ec3-ff0c-02dffef59a73"
      },
      "execution_count": 41,
      "outputs": [
        {
          "output_type": "execute_result",
          "data": {
            "text/plain": [
              "['arroz',\n",
              " 'carne',\n",
              " 'pechuga',\n",
              " 'cebolla',\n",
              " 'papa',\n",
              " 'carne',\n",
              " 'cebolla maíz',\n",
              " 'Panela',\n",
              " 'consomé',\n",
              " 'cebolla',\n",
              " 'avena',\n",
              " 'carne']"
            ]
          },
          "metadata": {},
          "execution_count": 41
        }
      ]
    },
    {
      "cell_type": "code",
      "source": [
        "nums = [1, 5, 2, 1, 4, 5, 1]\n",
        " \n",
        "dup = [x for i, x in enumerate(super) if i != super.index(x)]\n",
        "dup"
      ],
      "metadata": {
        "colab": {
          "base_uri": "https://localhost:8080/"
        },
        "id": "i6vWI3Fa0O0w",
        "outputId": "97e95c05-f53b-4092-f172-c107384d905e"
      },
      "execution_count": 44,
      "outputs": [
        {
          "output_type": "execute_result",
          "data": {
            "text/plain": [
              "['carne', 'cebolla', 'carne']"
            ]
          },
          "metadata": {},
          "execution_count": 44
        }
      ]
    }
  ]
}