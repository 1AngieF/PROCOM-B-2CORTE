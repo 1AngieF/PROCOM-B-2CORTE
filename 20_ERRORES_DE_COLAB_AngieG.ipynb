{
  "nbformat": 4,
  "nbformat_minor": 0,
  "metadata": {
    "colab": {
      "provenance": []
    },
    "kernelspec": {
      "name": "python3",
      "display_name": "Python 3"
    },
    "language_info": {
      "name": "python"
    }
  },
  "cells": [
    {
      "cell_type": "markdown",
      "source": [
        "ERRORES DE COLAB \n",
        "\n",
        "\n",
        "\n",
        "\n",
        "1.\tColab no permite ejecutar algún código si no está conectado a internet.\n",
        "2.\tAlgunas veces sin motivo alguno no ejecuta entornos de programación\n",
        "3.\tColab limita la funcionalidad de subir y descargar archivos locales del pc y de google drive\n",
        "4.\tLa máquina de google colab en un inicio solo cuenta con 12 GB de RAM y solo 50 GB de almacenamiento en disco disponibles para el uso.\n",
        "5.\tEl tiempo máximo que podemos estar conectados a una misma máquina desde un cuaderno es de 12 horas.\n",
        "6.\tNúmero máximo de operaciones por usuario y por archivo, y cuotas de ancho de banda.\n",
        "7.\tNo identifica algún tipo de librería importada.\n",
        "8.\tEs indispensable tener una GPU de google para programar.\n",
        "9.\tColab genera error cuando estamos realizando una ejecución muy prolongada y potente, el entorno se desconecte.\n",
        "10.\tColab tiene un número máximo de operaciones por usuario y por archivo, y cuotas de ancho de banda.\n",
        "11.\tGoogle colab genera errores cuando el contenido es compartido ya que puede ser modificado al mismo tiempo por lo que alguno podría alterar el programa sin ser registrado.\n",
        "12.\tColab genera errores cuando el código que se tiene es muy pesado por lo que genera inconvenientes a la hora de llamar las variables o funciones.\n",
        "13.\tNo identifica algunas librerías importadas.\n",
        "14.\tPermite usar varias cuentas para eludir las restricciones de acceso o de uso de recursos.\n",
        "15.\tSi el usuario no interactúa con su computadora portátil Google Colab durante más de 90 minutos, su instancia se cancela automáticamente.\n",
        "16.\tColab no muestra el historial de cambios en los códigos que se ejecutan.\n",
        "17.\tNo permite graficar sin librería.\n",
        "18.\tGenera errores al conectarse a proxi es remoto.\n",
        "19.\tSe puede perder fácilmente la información o partes del código.\n",
        "20.\tNo se puede ejecutar el código en varias pestañas de google.\n",
        "\n"
      ],
      "metadata": {
        "id": "POAItAhOVRe2"
      }
    }
  ]
}