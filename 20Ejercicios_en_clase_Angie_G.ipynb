{
  "nbformat": 4,
  "nbformat_minor": 0,
  "metadata": {
    "colab": {
      "provenance": []
    },
    "kernelspec": {
      "name": "python3",
      "display_name": "Python 3"
    },
    "language_info": {
      "name": "python"
    }
  },
  "cells": [
    {
      "cell_type": "markdown",
      "source": [
        "#1. Determine el mayor de dos números."
      ],
      "metadata": {
        "id": "nxgtX17Bs3wj"
      }
    },
    {
      "cell_type": "code",
      "source": [
        "##Ejercicio 1\n",
        "def mayor():\n",
        "    lista=[]\n",
        "    for n in range (0,2):\n",
        "        val=lista.append(int(input(\"Ingrese un número: \")))\n",
        "    return print(\"El núemro mayor es: \",max(lista))\n",
        "    \n",
        "mayor()"
      ],
      "metadata": {
        "colab": {
          "base_uri": "https://localhost:8080/"
        },
        "id": "iNW2XBsYs4jA",
        "outputId": "ccdbbdb7-3042-4301-c826-bdd05528e51d"
      },
      "execution_count": null,
      "outputs": [
        {
          "output_type": "stream",
          "name": "stdout",
          "text": [
            "Ingrese un número: 8\n",
            "Ingrese un número: 2\n",
            "El núemro mayor es:  8\n"
          ]
        }
      ]
    },
    {
      "cell_type": "markdown",
      "source": [
        "#2. Determine el mayor de tres números (empleando la función anterior)."
      ],
      "metadata": {
        "id": "0Wgk3-g0s95x"
      }
    },
    {
      "cell_type": "code",
      "source": [
        "##Ejericio 2\n",
        "def mayor():\n",
        "    dec=True\n",
        "    lista=[]\n",
        "    while dec == True:\n",
        "        val=lista.append(int(input(\"Ingrese un número: \")))\n",
        "        dec1=input(\"Desea agregar más números? (S/N)\")\n",
        "        if dec1.upper() == \"S\":\n",
        "            dec=True\n",
        "        else:\n",
        "            dec=False\n",
        "    return print(\"El núemro mayor es: \",max(lista))\n",
        "    \n",
        "mayor()"
      ],
      "metadata": {
        "colab": {
          "base_uri": "https://localhost:8080/"
        },
        "id": "yqQ2VDzqtm8q",
        "outputId": "fa38e541-f4a5-4faf-d68e-8b55ba02207f"
      },
      "execution_count": null,
      "outputs": [
        {
          "output_type": "stream",
          "name": "stdout",
          "text": [
            "Ingrese un número: 9\n",
            "Desea agregar más números? (S/N)n\n",
            "El núemro mayor es:  9\n"
          ]
        }
      ]
    },
    {
      "cell_type": "markdown",
      "source": [
        "#3. Sumar los números de una lista de 3 elementos."
      ],
      "metadata": {
        "id": "mvQXLy23tsmE"
      }
    },
    {
      "cell_type": "code",
      "source": [
        "##Ejercicio 3\n",
        "def suma(num1,num2,num3):\n",
        "    x=0\n",
        "    lista=[]\n",
        "    lista.append(num1)\n",
        "    lista.append(num2)\n",
        "    lista.append(num3)\n",
        "    for i in lista:\n",
        "        x=x+i\n",
        "    return print(f\"La suma de los 3 números es: {x}\")\n",
        "\n",
        "num1=int(input(\"Ingrese un número: \"))\n",
        "num2=int(input(\"Ingrese un número: \"))\n",
        "num3=int(input(\"Ingrese un número: \"))\n",
        "\n",
        "suma(num1,num2,num3)\n"
      ],
      "metadata": {
        "colab": {
          "base_uri": "https://localhost:8080/"
        },
        "id": "I15mbExKt5fF",
        "outputId": "6c94db38-3fb2-4bde-c749-2c12cf3a3236"
      },
      "execution_count": null,
      "outputs": [
        {
          "output_type": "stream",
          "name": "stdout",
          "text": [
            "Ingrese un número: 5\n",
            "Ingrese un número: 6\n",
            "Ingrese un número: 7\n",
            "La suma de los 3 números es: 18\n"
          ]
        }
      ]
    },
    {
      "cell_type": "markdown",
      "source": [
        "#4. Sumar los números de una lista de 4 elementos"
      ],
      "metadata": {
        "id": "-P6rflqNt_si"
      }
    },
    {
      "cell_type": "code",
      "source": [
        "##Ejercicio 4\n",
        "def suma(lista):\n",
        "    x=0\n",
        "    for i in lista:\n",
        "        x=x+i\n",
        "    return print(f\"La suma de los 4 números es: {x}\")\n",
        "\n",
        "lista=[]\n",
        "for i in range(4):\n",
        "    lista.append(int(input(\"Ingrese un número: \")))\n",
        "\n",
        "suma(lista)"
      ],
      "metadata": {
        "colab": {
          "base_uri": "https://localhost:8080/"
        },
        "id": "kquqPZHUuGzv",
        "outputId": "d0cc1a5f-5768-4590-a044-a189b802d2cf"
      },
      "execution_count": null,
      "outputs": [
        {
          "output_type": "stream",
          "name": "stdout",
          "text": [
            "Ingrese un número: 5\n",
            "Ingrese un número: 7\n",
            "Ingrese un número: 8\n",
            "Ingrese un número: 1\n",
            "La suma de los 4 números es: 21\n"
          ]
        }
      ]
    },
    {
      "cell_type": "markdown",
      "source": [
        "#5. Sumar todos los números de una lista."
      ],
      "metadata": {
        "id": "8M2JO8RJuMf2"
      }
    },
    {
      "cell_type": "code",
      "source": [
        "##Ejercicio 5\n",
        "def suma(lista):\n",
        "    x=0\n",
        "    for i in lista:\n",
        "        x=x+i\n",
        "    return print(f\"La suma de los números es: {x}\")\n",
        "lista=[]\n",
        "dec1=True\n",
        "while dec1==True:\n",
        "    lista.append(int(input(\"Ingrese un número: \")))\n",
        "    dec1=input(\"Desea ingresar otro número? (S/N)\")\n",
        "    if dec1.upper()!=\"S\":\n",
        "        dec1=False\n",
        "        suma(lista)\n",
        "    else:\n",
        "        dec1=True"
      ],
      "metadata": {
        "colab": {
          "base_uri": "https://localhost:8080/"
        },
        "id": "0ECpovODuRqc",
        "outputId": "b14faadc-8e16-44ee-b290-3615e395d81f"
      },
      "execution_count": null,
      "outputs": [
        {
          "output_type": "stream",
          "name": "stdout",
          "text": [
            "Ingrese un número: 2\n",
            "Desea ingresar otro número? (S/N)s\n",
            "Ingrese un número: 4\n",
            "Desea ingresar otro número? (S/N)s\n",
            "Ingrese un número: 12\n",
            "Desea ingresar otro número? (S/N)n\n",
            "La suma de los números es: 18\n"
          ]
        }
      ]
    },
    {
      "cell_type": "markdown",
      "source": [
        "#6. Multiplicar los números de una lista de 3 elementos."
      ],
      "metadata": {
        "id": "khxdrS5VuZ2Y"
      }
    },
    {
      "cell_type": "code",
      "source": [
        "##Ejercicio 6\n",
        "def multi(lista):\n",
        "    x=1\n",
        "    for i in lista:\n",
        "        x=x*i\n",
        "    return print(f\"La multiplicación de los 3 números es: {x}\")\n",
        "\n",
        "lista=[]\n",
        "for i in range(3):\n",
        "    lista.append(int(input(\"Ingrese un número: \")))\n",
        "\n",
        "multi(lista)"
      ],
      "metadata": {
        "colab": {
          "base_uri": "https://localhost:8080/"
        },
        "id": "c_mIXvh1upyW",
        "outputId": "cf34a34d-460a-4f55-c3aa-906dbaee69ac"
      },
      "execution_count": null,
      "outputs": [
        {
          "output_type": "stream",
          "name": "stdout",
          "text": [
            "Ingrese un número: 5\n",
            "Ingrese un número: 91\n",
            "Ingrese un número: 55\n",
            "La multiplicación de los 3 números es: 25025\n"
          ]
        }
      ]
    },
    {
      "cell_type": "markdown",
      "source": [
        "#7. Multiplicar los números de una lista de 4 elementos. "
      ],
      "metadata": {
        "id": "AMQFgrFPvbsf"
      }
    },
    {
      "cell_type": "code",
      "source": [
        "##Ejercicio 7\n",
        "def multi(lista):\n",
        "    x=1\n",
        "    for i in lista:\n",
        "        x=x*i\n",
        "    return print(f\"La multiplicación de los 4 números es: {x}\")\n",
        "\n",
        "lista=[]\n",
        "for i in range(4):\n",
        "    lista.append(int(input(\"Ingrese un número: \")))\n",
        "\n",
        "multi(lista)"
      ],
      "metadata": {
        "colab": {
          "base_uri": "https://localhost:8080/"
        },
        "id": "eVsxRD6avfq7",
        "outputId": "4b3d6046-0edb-45c4-f1f5-decc9412a984"
      },
      "execution_count": null,
      "outputs": [
        {
          "output_type": "stream",
          "name": "stdout",
          "text": [
            "Ingrese un número: 3\n",
            "Ingrese un número: 4\n",
            "Ingrese un número: 55\n",
            "Ingrese un número: 77\n",
            "La multiplicación de los 4 números es: 50820\n"
          ]
        }
      ]
    },
    {
      "cell_type": "markdown",
      "source": [
        "#8. Multiplicar todos los números de una lista. "
      ],
      "metadata": {
        "id": "TPjCEPF5vq7b"
      }
    },
    {
      "cell_type": "code",
      "source": [
        "##Ejercicio 8\n",
        "def multi(lista):\n",
        "    x=1\n",
        "    for i in lista:\n",
        "        x=x*i\n",
        "    return print(f\"La multiplicación de los números es: {x}\")\n",
        "lista=[]\n",
        "dec1=True\n",
        "while dec1==True:\n",
        "    lista.append(int(input(\"Ingrese un número: \")))\n",
        "    dec1=input(\"Desea ingresar otro número? (S/N)\")\n",
        "    if dec1.upper()!=\"S\":\n",
        "        dec1=False\n",
        "        multi(lista)\n",
        "    else:\n",
        "        dec1=True"
      ],
      "metadata": {
        "colab": {
          "base_uri": "https://localhost:8080/"
        },
        "id": "6cY0uHlWvvN4",
        "outputId": "1bb7266e-cf53-45b8-8b4d-6de6be8f07e7"
      },
      "execution_count": null,
      "outputs": [
        {
          "output_type": "stream",
          "name": "stdout",
          "text": [
            "Ingrese un número: 44\n",
            "Desea ingresar otro número? (S/N)s\n",
            "Ingrese un número: 44\n",
            "Desea ingresar otro número? (S/N)n\n",
            "La multiplicación de los números es: 1936\n"
          ]
        }
      ]
    },
    {
      "cell_type": "markdown",
      "source": [
        "#9. Invierta un String."
      ],
      "metadata": {
        "id": "thywTpRavzGV"
      }
    },
    {
      "cell_type": "code",
      "source": [
        "##Ejercicio 9\n",
        "def inverso(palabra):\n",
        "    palabra=palabra.lower()\n",
        "    inverso=list(palabra)\n",
        "    inverso.reverse()\n",
        "    palabrainv=\"\"\n",
        "    for i in inverso:        \n",
        "        palabrainv=palabrainv+i\n",
        "    return print(f\"El string invertido es: {palabrainv}\")\n",
        "palabra=input(\"Ingrese una cadena de caracteres: \")\n",
        "inverso(palabra)"
      ],
      "metadata": {
        "colab": {
          "base_uri": "https://localhost:8080/"
        },
        "id": "7FPqbebPv38f",
        "outputId": "9548ee78-c5ab-490d-fea3-6115f5e22e8c"
      },
      "execution_count": null,
      "outputs": [
        {
          "output_type": "stream",
          "name": "stdout",
          "text": [
            "Ingrese una cadena de caracteres: angie\n",
            "El string invertido es: eigna\n"
          ]
        }
      ]
    },
    {
      "cell_type": "markdown",
      "source": [
        "#10. Calcular el factorial de un número"
      ],
      "metadata": {
        "id": "JzeCdt59v8Ua"
      }
    },
    {
      "cell_type": "code",
      "source": [
        "##Ejercicio 10\n",
        "def facto(num):\n",
        "    num1=num\n",
        "    x=1\n",
        "    while num > 0:\n",
        "        x=x*num\n",
        "        num-=1\n",
        "    return print(f\"El factorial del número {num1} es: {x}\")\n",
        "num=int(input(\"Ingrese un número para calcular su factorial: \"))\n",
        "facto(num)"
      ],
      "metadata": {
        "colab": {
          "base_uri": "https://localhost:8080/"
        },
        "id": "i9c6WXNSwAF8",
        "outputId": "a58980e4-a22b-490e-d12b-ef2160a0db9c"
      },
      "execution_count": null,
      "outputs": [
        {
          "output_type": "stream",
          "name": "stdout",
          "text": [
            "Ingrese un número para calcular su factorial: 15\n",
            "El factorial del número 15 es: 1307674368000\n"
          ]
        }
      ]
    },
    {
      "cell_type": "markdown",
      "source": [
        "#11.Si un número está dentro de un rango."
      ],
      "metadata": {
        "id": "KfaSxW9TRv1S"
      }
    },
    {
      "cell_type": "code",
      "source": [
        "##Ejercicio 11\n",
        "def determinar(num):\n",
        "    if num >= 0 and num <=10:\n",
        "        print(f\"El número {num} está dentro del rango\")\n",
        "    elif num <0:\n",
        "        print(f\"El número {num} está por debajo del rango\")\n",
        "    else:\n",
        "        print(\"El número está por encima del rango\")\n",
        "print(\"Se determina que un número está dentro del rango si se encuentra en el intervalo [0,10]\")\n",
        "num=int(input(\"Ingrese un número: \"))\n",
        "determinar(num)"
      ],
      "metadata": {
        "id": "oziItmOFWWDV"
      },
      "execution_count": null,
      "outputs": []
    },
    {
      "cell_type": "markdown",
      "source": [
        "#12. Capture el número de mayúsculas y minúsculas en una oración"
      ],
      "metadata": {
        "id": "9dvtdoCLSoRN"
      }
    },
    {
      "cell_type": "code",
      "source": [
        "##Ejercicio 12\n",
        "def mayusc(Palabra):\n",
        "    counterM=0\n",
        "    counterm=0\n",
        "    palabra_lista=list(Palabra)\n",
        "    for i in palabra_lista:\n",
        "        if i.isupper() == True:\n",
        "            counterM=counterM+1\n",
        "        else:\n",
        "            counterm=counterm+1\n",
        "    return print(f\"La cantidad de letras mayusculas es de {counterM} y la cantidad de letras minusculas es de {counterm}\")\n",
        "\n",
        "Palabra=input(\"Ingrese una palabra: \")\n",
        "mayusc(Palabra)"
      ],
      "metadata": {
        "id": "tz4v8rqGSqiL",
        "colab": {
          "base_uri": "https://localhost:8080/"
        },
        "outputId": "33ad3497-5f00-4273-ab56-22fd3c63c071"
      },
      "execution_count": 4,
      "outputs": [
        {
          "output_type": "stream",
          "name": "stdout",
          "text": [
            "Ingrese una palabra: Angie \n",
            "La cantidad de letras mayusculas es de 1 y la cantidad de letras minusculas es de 5\n"
          ]
        }
      ]
    },
    {
      "cell_type": "markdown",
      "source": [
        "#13. El ejercicio anterior, pero almacene los resultados en un diccionario."
      ],
      "metadata": {
        "id": "hxHdJ60iSrJM"
      }
    },
    {
      "cell_type": "code",
      "source": [
        "##Ejercicio 13\n",
        "def mayusc(Palabra):\n",
        "    counterM=0\n",
        "    counterm=0\n",
        "    listaM=[]\n",
        "    listam=[]\n",
        "    palabra_lista=list(Palabra)\n",
        "    for i in palabra_lista:\n",
        "        if i.isupper() == True:\n",
        "            counterM=counterM+1\n",
        "            listaM.append(i)\n",
        "        else:\n",
        "            counterm=counterm+1\n",
        "            listam.append(i)\n",
        "    return print(f\"La cantidad de letras mayusculas es de {counterM} y la cantidad de letras minusculas es de {counterm}\\nLas letras mayusculas son {listaM}\\ny las letras minusculas son {listam}\")\n",
        "Palabra=input(\"Ingrese una palabra: \")\n",
        "mayusc(Palabra)"
      ],
      "metadata": {
        "id": "CX6uOJLaS1jI",
        "colab": {
          "base_uri": "https://localhost:8080/"
        },
        "outputId": "f7502750-af63-4395-8163-b127dbf83c40"
      },
      "execution_count": 5,
      "outputs": [
        {
          "output_type": "stream",
          "name": "stdout",
          "text": [
            "Ingrese una palabra: Tridente \n",
            "La cantidad de letras mayusculas es de 1 y la cantidad de letras minusculas es de 8\n",
            "Las letras mayusculas son ['T']\n",
            "y las letras minusculas son ['r', 'i', 'd', 'e', 'n', 't', 'e', ' ']\n"
          ]
        }
      ]
    },
    {
      "cell_type": "markdown",
      "source": [
        "#14. Reciba una lista y retorne sólo los elementos pares"
      ],
      "metadata": {
        "id": "pj2wYeFGS3bo"
      }
    },
    {
      "cell_type": "code",
      "source": [
        "##Ejercicio 14\n",
        "def pares(lista):\n",
        "    for i in range(0,len(lista)):\n",
        "        if i%2 == 0:\n",
        "            print(f\"{lista[i]}\")\n",
        "lista=[\"cero\",\"impar1\",\"par1\",\"impar2\",\"par2\",\"impar3\",\"par3\"]\n",
        "pares(lista)"
      ],
      "metadata": {
        "id": "IGgFaAPKS6Uc",
        "colab": {
          "base_uri": "https://localhost:8080/"
        },
        "outputId": "a08630d6-51e3-499a-a153-d7fb94b4a42c"
      },
      "execution_count": 6,
      "outputs": [
        {
          "output_type": "stream",
          "name": "stdout",
          "text": [
            "cero\n",
            "par1\n",
            "par2\n",
            "par3\n"
          ]
        }
      ]
    },
    {
      "cell_type": "markdown",
      "source": [
        "#15. Reciba una lista y retorne sólo los elementos de posición impar"
      ],
      "metadata": {
        "id": "60bkTBYpS6w6"
      }
    },
    {
      "cell_type": "code",
      "source": [
        "##Ejercicio 15\n",
        "def impares(lista):\n",
        "    for i in range(0,len(lista)):\n",
        "        if i==0:\n",
        "            print(f\"{lista[i]}\")\n",
        "        elif i%2 != 0:\n",
        "            print(f\"{lista[i]}\")\n",
        "lista=[\"cero\",\"impar1\",\"par1\",\"impar2\",\"par2\",\"impar3\",\"par3\"]\n",
        "impares(lista)\n"
      ],
      "metadata": {
        "id": "cBKikMDkS-mz",
        "colab": {
          "base_uri": "https://localhost:8080/"
        },
        "outputId": "cbcae916-7723-4241-abd9-e169d941cf97"
      },
      "execution_count": 7,
      "outputs": [
        {
          "output_type": "stream",
          "name": "stdout",
          "text": [
            "cero\n",
            "impar1\n",
            "impar2\n",
            "impar3\n"
          ]
        }
      ]
    },
    {
      "cell_type": "markdown",
      "source": [
        "#16. Recibir un número y decir si es perfecto o no. Ejemplo: 6 es perfecto, porque la suma de sus\n",
        "divisores es 6 (1+2+3)"
      ],
      "metadata": {
        "id": "XtfUe2KLS_0p"
      }
    },
    {
      "cell_type": "code",
      "source": [
        "##Ejercicio 16\n",
        "def perfecto(num):\n",
        "    b=0\n",
        "    for j in range(1, (num // 2)+1):\n",
        "        if ((num % j) == 0):\n",
        "            b = b + j\n",
        "    if (b == num):\n",
        "        print(f\"El número {num} es perfecto\")\n",
        "    else:\n",
        "        print(f\"El número {num} no es perfecto\")\n",
        "\n",
        "num=int(input(\"Ingrese un número: \"))\n",
        "perfecto(num)"
      ],
      "metadata": {
        "id": "rhRRnNQQTD-h",
        "colab": {
          "base_uri": "https://localhost:8080/"
        },
        "outputId": "7a0b766b-f0d7-4223-e241-99835b3609d4"
      },
      "execution_count": 8,
      "outputs": [
        {
          "output_type": "stream",
          "name": "stdout",
          "text": [
            "Ingrese un número: 15\n",
            "El número 15 no es perfecto\n"
          ]
        }
      ]
    },
    {
      "cell_type": "markdown",
      "source": [
        "#17. Chequear si una palabra es palíndromo o no. Ejemplo: “Ana” es un palíndromo"
      ],
      "metadata": {
        "id": "Y9B1JoSATEaR"
      }
    },
    {
      "cell_type": "code",
      "source": [
        "##Ejercicio 17\n",
        "def Probador_Palidromo (palabra):\n",
        "    palabrainversa=\"\"\n",
        "    palabra=palabra.lower()\n",
        "    palabra_list=list(palabra)\n",
        "    palabra_list.reverse()\n",
        "    for i in palabra_list:\n",
        "        palabrainversa=palabrainversa+i\n",
        "    if palabra == palabrainversa:\n",
        "        print(f\"La palabra {palabra} es un palindromo\")\n",
        "    else:\n",
        "        print(f\"La palabra {palabra} NO es un palindromo\")\n",
        "\n",
        "\n",
        "palabra=str(input(\"Ingrese una palabra: \"))\n",
        "\n",
        "Probador_Palidromo(palabra)"
      ],
      "metadata": {
        "id": "HIcH-CpGTKiF",
        "colab": {
          "base_uri": "https://localhost:8080/"
        },
        "outputId": "e1dd9377-384f-4896-d386-003bf65e945d"
      },
      "execution_count": 9,
      "outputs": [
        {
          "output_type": "stream",
          "name": "stdout",
          "text": [
            "Ingrese una palabra: Violeta\n",
            "La palabra violeta NO es un palindromo\n"
          ]
        }
      ]
    },
    {
      "cell_type": "markdown",
      "source": [
        "#18. Imprimir la fila n del triángulo de pascal"
      ],
      "metadata": {
        "id": "iDIJvZfiTLDB"
      }
    },
    {
      "cell_type": "code",
      "source": [
        "##Ejercicio 18\n",
        "def pascal(n):\n",
        "    for i in range(1, n+1): \n",
        "        for j in range(0, n-i+1): \n",
        "            print(' ', end='') \n",
        "        C = 1\n",
        "        for j in range(1, i+1): \n",
        "            print(' ', C, sep='', end='') \n",
        "            C = C * (i - j) // j \n",
        "        print() \n",
        "\n",
        "n=int(input(\"Ingresa el número de filas del triangulo de pascal a imprimir: \"))\n",
        "pascal(n)"
      ],
      "metadata": {
        "id": "Ly0ZSHVYTOqm",
        "colab": {
          "base_uri": "https://localhost:8080/"
        },
        "outputId": "e40c7867-2f96-486d-d2e7-e3088e7f6238"
      },
      "execution_count": 10,
      "outputs": [
        {
          "output_type": "stream",
          "name": "stdout",
          "text": [
            "Ingresa el número de filas del triangulo de pascal a imprimir: 8\n",
            "         1\n",
            "        1 1\n",
            "       1 2 1\n",
            "      1 3 3 1\n",
            "     1 4 6 4 1\n",
            "    1 5 10 10 5 1\n",
            "   1 6 15 20 15 6 1\n",
            "  1 7 21 35 35 21 7 1\n"
          ]
        }
      ]
    },
    {
      "cell_type": "markdown",
      "source": [
        "#19. Imprimir una frase tipo oración. Ejemplo: Ingresa: esta es una oración e imprime Esta es una oración"
      ],
      "metadata": {
        "id": "a_dW5UxATUlC"
      }
    },
    {
      "cell_type": "code",
      "source": [
        "##Ejercicio 19\n",
        "def esoracion(cadena):\n",
        "    cadena_lista=list(cadena)\n",
        "    if len(cadena_lista)>=12:\n",
        "        print(f\"La cadena {cadena} es una oración\")\n",
        "    else:\n",
        "        print(f'La cadena \"{cadena}\" NO es una oración porque no contiene al menos 12 palabras')\n",
        "\n",
        "print(\"Se determina que una cadena de caracteres es una oración si contiene al menos 12 palabras\\nNo se evalua si tiene sentido o si las palabras son diferentes\") \n",
        "cadena=input(\"Ingrese una oración: \")\n",
        "esoracion(cadena)"
      ],
      "metadata": {
        "id": "QFVh8oAQTXHw",
        "colab": {
          "base_uri": "https://localhost:8080/"
        },
        "outputId": "94aac88b-771a-40ed-84fc-6af4f16ab88c"
      },
      "execution_count": 11,
      "outputs": [
        {
          "output_type": "stream",
          "name": "stdout",
          "text": [
            "Se determina que una cadena de caracteres es una oración si contiene al menos 12 palabras\n",
            "No se evalua si tiene sentido o si las palabras son diferentes\n",
            "Ingrese una oración: integración de la facultad de ingeniería\n",
            "La cadena integración de la facultad de ingeniería es una oración\n"
          ]
        }
      ]
    },
    {
      "cell_type": "markdown",
      "source": [
        "#20. Acepte palabras separadas por – y las ordene alfabéticamente.\n",
        "Ejemplo: ingresa verde-rojo-amarillo-blanco-negro\n",
        "Regresa: amarillo-blanco-negro-rojo-verde"
      ],
      "metadata": {
        "id": "UmtsHaLNTXke"
      }
    },
    {
      "cell_type": "code",
      "source": [
        "##Ejercicio 20\n",
        "def ordenar(cadena):\n",
        "    cadena=cadena.replace(\"-\",\" \")\n",
        "    cadenaN=cadena.split()\n",
        "    cadenaN.sort()\n",
        "    print(cadenaN)\n",
        "\n",
        "cadena=input(\"Ingrese palabras separadas por guion (-): \")\n",
        "ordenar(cadena)"
      ],
      "metadata": {
        "id": "_Y9Rfd7rTcit",
        "colab": {
          "base_uri": "https://localhost:8080/"
        },
        "outputId": "95ed17e0-d28c-48cf-840a-87914f6a6898"
      },
      "execution_count": 12,
      "outputs": [
        {
          "output_type": "stream",
          "name": "stdout",
          "text": [
            "Ingrese palabras separadas por guion (-): Angie-Animaciones-Pequeñuelos-Rosado-Emprendimiento\n",
            "['Angie', 'Animaciones', 'Emprendimiento', 'Pequeñuelos', 'Rosado']\n"
          ]
        }
      ]
    }
  ]
}