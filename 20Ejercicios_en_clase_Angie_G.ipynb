{
  "nbformat": 4,
  "nbformat_minor": 0,
  "metadata": {
    "colab": {
      "provenance": []
    },
    "kernelspec": {
      "name": "python3",
      "display_name": "Python 3"
    },
    "language_info": {
      "name": "python"
    }
  },
  "cells": [
    {
      "cell_type": "markdown",
      "source": [
        "#1. Determine el mayor de dos números."
      ],
      "metadata": {
        "id": "nxgtX17Bs3wj"
      }
    },
    {
      "cell_type": "code",
      "source": [
        "##Ejercicio 1\n",
        "def mayor():\n",
        "    lista=[]\n",
        "    for n in range (0,2):\n",
        "        val=lista.append(int(input(\"Ingrese un número: \")))\n",
        "    return print(\"El núemro mayor es: \",max(lista))\n",
        "    \n",
        "mayor()"
      ],
      "metadata": {
        "colab": {
          "base_uri": "https://localhost:8080/"
        },
        "id": "iNW2XBsYs4jA",
        "outputId": "ccdbbdb7-3042-4301-c826-bdd05528e51d"
      },
      "execution_count": 1,
      "outputs": [
        {
          "output_type": "stream",
          "name": "stdout",
          "text": [
            "Ingrese un número: 8\n",
            "Ingrese un número: 2\n",
            "El núemro mayor es:  8\n"
          ]
        }
      ]
    },
    {
      "cell_type": "markdown",
      "source": [
        "#2. Determine el mayor de tres números (empleando la función anterior)."
      ],
      "metadata": {
        "id": "0Wgk3-g0s95x"
      }
    },
    {
      "cell_type": "code",
      "source": [
        "##Ejericio 2\n",
        "def mayor():\n",
        "    dec=True\n",
        "    lista=[]\n",
        "    while dec == True:\n",
        "        val=lista.append(int(input(\"Ingrese un número: \")))\n",
        "        dec1=input(\"Desea agregar más números? (S/N)\")\n",
        "        if dec1.upper() == \"S\":\n",
        "            dec=True\n",
        "        else:\n",
        "            dec=False\n",
        "    return print(\"El núemro mayor es: \",max(lista))\n",
        "    \n",
        "mayor()"
      ],
      "metadata": {
        "colab": {
          "base_uri": "https://localhost:8080/"
        },
        "id": "yqQ2VDzqtm8q",
        "outputId": "fa38e541-f4a5-4faf-d68e-8b55ba02207f"
      },
      "execution_count": 2,
      "outputs": [
        {
          "output_type": "stream",
          "name": "stdout",
          "text": [
            "Ingrese un número: 9\n",
            "Desea agregar más números? (S/N)n\n",
            "El núemro mayor es:  9\n"
          ]
        }
      ]
    },
    {
      "cell_type": "markdown",
      "source": [
        "#3. Sumar los números de una lista de 3 elementos."
      ],
      "metadata": {
        "id": "mvQXLy23tsmE"
      }
    },
    {
      "cell_type": "code",
      "source": [
        "##Ejercicio 3\n",
        "def suma(num1,num2,num3):\n",
        "    x=0\n",
        "    lista=[]\n",
        "    lista.append(num1)\n",
        "    lista.append(num2)\n",
        "    lista.append(num3)\n",
        "    for i in lista:\n",
        "        x=x+i\n",
        "    return print(f\"La suma de los 3 números es: {x}\")\n",
        "\n",
        "num1=int(input(\"Ingrese un número: \"))\n",
        "num2=int(input(\"Ingrese un número: \"))\n",
        "num3=int(input(\"Ingrese un número: \"))\n",
        "\n",
        "suma(num1,num2,num3)\n"
      ],
      "metadata": {
        "colab": {
          "base_uri": "https://localhost:8080/"
        },
        "id": "I15mbExKt5fF",
        "outputId": "6c94db38-3fb2-4bde-c749-2c12cf3a3236"
      },
      "execution_count": 3,
      "outputs": [
        {
          "output_type": "stream",
          "name": "stdout",
          "text": [
            "Ingrese un número: 5\n",
            "Ingrese un número: 6\n",
            "Ingrese un número: 7\n",
            "La suma de los 3 números es: 18\n"
          ]
        }
      ]
    },
    {
      "cell_type": "markdown",
      "source": [
        "#4. Sumar los números de una lista de 4 elementos"
      ],
      "metadata": {
        "id": "-P6rflqNt_si"
      }
    },
    {
      "cell_type": "code",
      "source": [
        "##Ejercicio 4\n",
        "def suma(lista):\n",
        "    x=0\n",
        "    for i in lista:\n",
        "        x=x+i\n",
        "    return print(f\"La suma de los 4 números es: {x}\")\n",
        "\n",
        "lista=[]\n",
        "for i in range(4):\n",
        "    lista.append(int(input(\"Ingrese un número: \")))\n",
        "\n",
        "suma(lista)"
      ],
      "metadata": {
        "colab": {
          "base_uri": "https://localhost:8080/"
        },
        "id": "kquqPZHUuGzv",
        "outputId": "d0cc1a5f-5768-4590-a044-a189b802d2cf"
      },
      "execution_count": 4,
      "outputs": [
        {
          "output_type": "stream",
          "name": "stdout",
          "text": [
            "Ingrese un número: 5\n",
            "Ingrese un número: 7\n",
            "Ingrese un número: 8\n",
            "Ingrese un número: 1\n",
            "La suma de los 4 números es: 21\n"
          ]
        }
      ]
    },
    {
      "cell_type": "markdown",
      "source": [
        "#5. Sumar todos los números de una lista."
      ],
      "metadata": {
        "id": "8M2JO8RJuMf2"
      }
    },
    {
      "cell_type": "code",
      "source": [
        "##Ejercicio 5\n",
        "def suma(lista):\n",
        "    x=0\n",
        "    for i in lista:\n",
        "        x=x+i\n",
        "    return print(f\"La suma de los números es: {x}\")\n",
        "lista=[]\n",
        "dec1=True\n",
        "while dec1==True:\n",
        "    lista.append(int(input(\"Ingrese un número: \")))\n",
        "    dec1=input(\"Desea ingresar otro número? (S/N)\")\n",
        "    if dec1.upper()!=\"S\":\n",
        "        dec1=False\n",
        "        suma(lista)\n",
        "    else:\n",
        "        dec1=True"
      ],
      "metadata": {
        "colab": {
          "base_uri": "https://localhost:8080/"
        },
        "id": "0ECpovODuRqc",
        "outputId": "b14faadc-8e16-44ee-b290-3615e395d81f"
      },
      "execution_count": 5,
      "outputs": [
        {
          "output_type": "stream",
          "name": "stdout",
          "text": [
            "Ingrese un número: 2\n",
            "Desea ingresar otro número? (S/N)s\n",
            "Ingrese un número: 4\n",
            "Desea ingresar otro número? (S/N)s\n",
            "Ingrese un número: 12\n",
            "Desea ingresar otro número? (S/N)n\n",
            "La suma de los números es: 18\n"
          ]
        }
      ]
    },
    {
      "cell_type": "markdown",
      "source": [
        "#6. Multiplicar los números de una lista de 3 elementos."
      ],
      "metadata": {
        "id": "khxdrS5VuZ2Y"
      }
    },
    {
      "cell_type": "code",
      "source": [
        "##Ejercicio 6\n",
        "def multi(lista):\n",
        "    x=1\n",
        "    for i in lista:\n",
        "        x=x*i\n",
        "    return print(f\"La multiplicación de los 3 números es: {x}\")\n",
        "\n",
        "lista=[]\n",
        "for i in range(3):\n",
        "    lista.append(int(input(\"Ingrese un número: \")))\n",
        "\n",
        "multi(lista)"
      ],
      "metadata": {
        "colab": {
          "base_uri": "https://localhost:8080/"
        },
        "id": "c_mIXvh1upyW",
        "outputId": "cf34a34d-460a-4f55-c3aa-906dbaee69ac"
      },
      "execution_count": 6,
      "outputs": [
        {
          "output_type": "stream",
          "name": "stdout",
          "text": [
            "Ingrese un número: 5\n",
            "Ingrese un número: 91\n",
            "Ingrese un número: 55\n",
            "La multiplicación de los 3 números es: 25025\n"
          ]
        }
      ]
    },
    {
      "cell_type": "markdown",
      "source": [
        "#7. Multiplicar los números de una lista de 4 elementos. "
      ],
      "metadata": {
        "id": "AMQFgrFPvbsf"
      }
    },
    {
      "cell_type": "code",
      "source": [
        "##Ejercicio 7\n",
        "def multi(lista):\n",
        "    x=1\n",
        "    for i in lista:\n",
        "        x=x*i\n",
        "    return print(f\"La multiplicación de los 4 números es: {x}\")\n",
        "\n",
        "lista=[]\n",
        "for i in range(4):\n",
        "    lista.append(int(input(\"Ingrese un número: \")))\n",
        "\n",
        "multi(lista)"
      ],
      "metadata": {
        "colab": {
          "base_uri": "https://localhost:8080/"
        },
        "id": "eVsxRD6avfq7",
        "outputId": "4b3d6046-0edb-45c4-f1f5-decc9412a984"
      },
      "execution_count": 8,
      "outputs": [
        {
          "output_type": "stream",
          "name": "stdout",
          "text": [
            "Ingrese un número: 3\n",
            "Ingrese un número: 4\n",
            "Ingrese un número: 55\n",
            "Ingrese un número: 77\n",
            "La multiplicación de los 4 números es: 50820\n"
          ]
        }
      ]
    },
    {
      "cell_type": "markdown",
      "source": [
        "#8. Multiplicar todos los números de una lista. "
      ],
      "metadata": {
        "id": "TPjCEPF5vq7b"
      }
    },
    {
      "cell_type": "code",
      "source": [
        "##Ejercicio 8\n",
        "def multi(lista):\n",
        "    x=1\n",
        "    for i in lista:\n",
        "        x=x*i\n",
        "    return print(f\"La multiplicación de los números es: {x}\")\n",
        "lista=[]\n",
        "dec1=True\n",
        "while dec1==True:\n",
        "    lista.append(int(input(\"Ingrese un número: \")))\n",
        "    dec1=input(\"Desea ingresar otro número? (S/N)\")\n",
        "    if dec1.upper()!=\"S\":\n",
        "        dec1=False\n",
        "        multi(lista)\n",
        "    else:\n",
        "        dec1=True"
      ],
      "metadata": {
        "colab": {
          "base_uri": "https://localhost:8080/"
        },
        "id": "6cY0uHlWvvN4",
        "outputId": "1bb7266e-cf53-45b8-8b4d-6de6be8f07e7"
      },
      "execution_count": 11,
      "outputs": [
        {
          "output_type": "stream",
          "name": "stdout",
          "text": [
            "Ingrese un número: 44\n",
            "Desea ingresar otro número? (S/N)s\n",
            "Ingrese un número: 44\n",
            "Desea ingresar otro número? (S/N)n\n",
            "La multiplicación de los números es: 1936\n"
          ]
        }
      ]
    },
    {
      "cell_type": "markdown",
      "source": [
        "#9. Invierta un String."
      ],
      "metadata": {
        "id": "thywTpRavzGV"
      }
    },
    {
      "cell_type": "code",
      "source": [
        "##Ejercicio 9\n",
        "def inverso(palabra):\n",
        "    palabra=palabra.lower()\n",
        "    inverso=list(palabra)\n",
        "    inverso.reverse()\n",
        "    palabrainv=\"\"\n",
        "    for i in inverso:        \n",
        "        palabrainv=palabrainv+i\n",
        "    return print(f\"El string invertido es: {palabrainv}\")\n",
        "palabra=input(\"Ingrese una cadena de caracteres: \")\n",
        "inverso(palabra)"
      ],
      "metadata": {
        "colab": {
          "base_uri": "https://localhost:8080/"
        },
        "id": "7FPqbebPv38f",
        "outputId": "9548ee78-c5ab-490d-fea3-6115f5e22e8c"
      },
      "execution_count": 10,
      "outputs": [
        {
          "output_type": "stream",
          "name": "stdout",
          "text": [
            "Ingrese una cadena de caracteres: angie\n",
            "El string invertido es: eigna\n"
          ]
        }
      ]
    },
    {
      "cell_type": "markdown",
      "source": [
        "#10. Calcular el factorial de un número"
      ],
      "metadata": {
        "id": "JzeCdt59v8Ua"
      }
    },
    {
      "cell_type": "code",
      "source": [
        "##Ejercicio 10\n",
        "def facto(num):\n",
        "    num1=num\n",
        "    x=1\n",
        "    while num > 0:\n",
        "        x=x*num\n",
        "        num-=1\n",
        "    return print(f\"El factorial del número {num1} es: {x}\")\n",
        "num=int(input(\"Ingrese un número para calcular su factorial: \"))\n",
        "facto(num)"
      ],
      "metadata": {
        "colab": {
          "base_uri": "https://localhost:8080/"
        },
        "id": "i9c6WXNSwAF8",
        "outputId": "a58980e4-a22b-490e-d12b-ef2160a0db9c"
      },
      "execution_count": 9,
      "outputs": [
        {
          "output_type": "stream",
          "name": "stdout",
          "text": [
            "Ingrese un número para calcular su factorial: 15\n",
            "El factorial del número 15 es: 1307674368000\n"
          ]
        }
      ]
    }
  ]
}